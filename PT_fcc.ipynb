{
  "nbformat": 4,
  "nbformat_minor": 0,
  "metadata": {
    "colab": {
      "provenance": [],
      "gpuType": "T4",
      "authorship_tag": "ABX9TyP2KJRSXrbVkZoAuMXK8W5k",
      "include_colab_link": true
    },
    "kernelspec": {
      "name": "python3",
      "display_name": "Python 3"
    },
    "language_info": {
      "name": "python"
    },
    "accelerator": "GPU"
  },
  "cells": [
    {
      "cell_type": "markdown",
      "metadata": {
        "id": "view-in-github",
        "colab_type": "text"
      },
      "source": [
        "<a href=\"https://colab.research.google.com/github/dilshvn/fcc-pytorch-for-DL/blob/main/PT_fcc.ipynb\" target=\"_parent\"><img src=\"https://colab.research.google.com/assets/colab-badge.svg\" alt=\"Open In Colab\"/></a>"
      ]
    },
    {
      "cell_type": "markdown",
      "source": [
        "pre-built DL models: from torch hub/torchvision.models"
      ],
      "metadata": {
        "id": "rNPn3WbAKRvk"
      }
    },
    {
      "cell_type": "code",
      "execution_count": null,
      "metadata": {
        "id": "3A3fNnL9BYwF",
        "colab": {
          "base_uri": "https://localhost:8080/"
        },
        "outputId": "ba153427-c8f7-4d6f-a650-562df1ec9962"
      },
      "outputs": [
        {
          "output_type": "stream",
          "name": "stdout",
          "text": [
            "Thu Jun 29 11:13:00 2023       \n",
            "+-----------------------------------------------------------------------------+\n",
            "| NVIDIA-SMI 525.85.12    Driver Version: 525.85.12    CUDA Version: 12.0     |\n",
            "|-------------------------------+----------------------+----------------------+\n",
            "| GPU  Name        Persistence-M| Bus-Id        Disp.A | Volatile Uncorr. ECC |\n",
            "| Fan  Temp  Perf  Pwr:Usage/Cap|         Memory-Usage | GPU-Util  Compute M. |\n",
            "|                               |                      |               MIG M. |\n",
            "|===============================+======================+======================|\n",
            "|   0  Tesla T4            Off  | 00000000:00:04.0 Off |                    0 |\n",
            "| N/A   66C    P8    11W /  70W |      0MiB / 15360MiB |      0%      Default |\n",
            "|                               |                      |                  N/A |\n",
            "+-------------------------------+----------------------+----------------------+\n",
            "                                                                               \n",
            "+-----------------------------------------------------------------------------+\n",
            "| Processes:                                                                  |\n",
            "|  GPU   GI   CI        PID   Type   Process name                  GPU Memory |\n",
            "|        ID   ID                                                   Usage      |\n",
            "|=============================================================================|\n",
            "|  No running processes found                                                 |\n",
            "+-----------------------------------------------------------------------------+\n"
          ]
        }
      ],
      "source": [
        "!nvidia-smi"
      ]
    },
    {
      "cell_type": "code",
      "source": [
        "!pip install colab_ssh --upgrade"
      ],
      "metadata": {
        "colab": {
          "base_uri": "https://localhost:8080/"
        },
        "id": "guHNcJVr6p0A",
        "outputId": "042e7a3d-3c0c-4cc3-880a-e1999246b8f2"
      },
      "execution_count": null,
      "outputs": [
        {
          "output_type": "stream",
          "name": "stdout",
          "text": [
            "Collecting colab_ssh\n",
            "  Downloading colab_ssh-0.3.27-py3-none-any.whl (26 kB)\n",
            "Installing collected packages: colab_ssh\n",
            "Successfully installed colab_ssh-0.3.27\n"
          ]
        }
      ]
    },
    {
      "cell_type": "code",
      "source": [
        "!pip install -q colabcode"
      ],
      "metadata": {
        "colab": {
          "base_uri": "https://localhost:8080/"
        },
        "id": "0EHvlcPj7lkR",
        "outputId": "084138ea-b892-4e95-bdca-5313d0af8200"
      },
      "execution_count": null,
      "outputs": [
        {
          "output_type": "stream",
          "name": "stdout",
          "text": [
            "\u001b[?25l     \u001b[90m━━━━━━━━━━━━━━━━━━━━━━━━━━━━━━━━━━━━━━━━\u001b[0m \u001b[32m0.0/681.2 kB\u001b[0m \u001b[31m?\u001b[0m eta \u001b[36m-:--:--\u001b[0m\r\u001b[2K     \u001b[91m━━━━━━━━\u001b[0m\u001b[91m╸\u001b[0m\u001b[90m━━━━━━━━━━━━━━━━━━━━━━━━━━━━━━\u001b[0m \u001b[32m153.6/681.2 kB\u001b[0m \u001b[31m4.8 MB/s\u001b[0m eta \u001b[36m0:00:01\u001b[0m\r\u001b[2K     \u001b[91m━━━━━━━━━━━━━━━━━━━━━━━━━━━━━━━━\u001b[0m\u001b[90m╺\u001b[0m\u001b[90m━━━━━━\u001b[0m \u001b[32m563.2/681.2 kB\u001b[0m \u001b[31m8.3 MB/s\u001b[0m eta \u001b[36m0:00:01\u001b[0m\r\u001b[2K     \u001b[90m━━━━━━━━━━━━━━━━━━━━━━━━━━━━━━━━━━━━━━━\u001b[0m \u001b[32m681.2/681.2 kB\u001b[0m \u001b[31m7.9 MB/s\u001b[0m eta \u001b[36m0:00:00\u001b[0m\n",
            "\u001b[?25h  Preparing metadata (setup.py) ... \u001b[?25l\u001b[?25hdone\n",
            "\u001b[2K     \u001b[90m━━━━━━━━━━━━━━━━━━━━━━━━━━━━━━━━━━━━━━━━\u001b[0m \u001b[32m45.5/45.5 kB\u001b[0m \u001b[31m4.8 MB/s\u001b[0m eta \u001b[36m0:00:00\u001b[0m\n",
            "\u001b[2K     \u001b[90m━━━━━━━━━━━━━━━━━━━━━━━━━━━━━━━━━━━━━━━━\u001b[0m \u001b[32m8.3/8.3 MB\u001b[0m \u001b[31m24.1 MB/s\u001b[0m eta \u001b[36m0:00:00\u001b[0m\n",
            "\u001b[2K     \u001b[90m━━━━━━━━━━━━━━━━━━━━━━━━━━━━━━━━━━━━━━━━\u001b[0m \u001b[32m57.3/57.3 kB\u001b[0m \u001b[31m6.2 MB/s\u001b[0m eta \u001b[36m0:00:00\u001b[0m\n",
            "\u001b[2K     \u001b[90m━━━━━━━━━━━━━━━━━━━━━━━━━━━━━━━━━━━━━━━━\u001b[0m \u001b[32m10.0/10.0 MB\u001b[0m \u001b[31m55.7 MB/s\u001b[0m eta \u001b[36m0:00:00\u001b[0m\n",
            "\u001b[2K     \u001b[90m━━━━━━━━━━━━━━━━━━━━━━━━━━━━━━━━━━━━━━━━\u001b[0m \u001b[32m82.8/82.8 kB\u001b[0m \u001b[31m10.5 MB/s\u001b[0m eta \u001b[36m0:00:00\u001b[0m\n",
            "\u001b[2K     \u001b[90m━━━━━━━━━━━━━━━━━━━━━━━━━━━━━━━━━━━━━━━━\u001b[0m \u001b[32m58.3/58.3 kB\u001b[0m \u001b[31m7.3 MB/s\u001b[0m eta \u001b[36m0:00:00\u001b[0m\n",
            "\u001b[2K     \u001b[90m━━━━━━━━━━━━━━━━━━━━━━━━━━━━━━━━━━━━━━━━\u001b[0m \u001b[32m10.0/10.0 MB\u001b[0m \u001b[31m79.3 MB/s\u001b[0m eta \u001b[36m0:00:00\u001b[0m\n",
            "\u001b[2K     \u001b[90m━━━━━━━━━━━━━━━━━━━━━━━━━━━━━━━━━━━━━━━━\u001b[0m \u001b[32m10.0/10.0 MB\u001b[0m \u001b[31m99.3 MB/s\u001b[0m eta \u001b[36m0:00:00\u001b[0m\n",
            "\u001b[2K     \u001b[90m━━━━━━━━━━━━━━━━━━━━━━━━━━━━━━━━━━━━━━━\u001b[0m \u001b[32m10.0/10.0 MB\u001b[0m \u001b[31m116.2 MB/s\u001b[0m eta \u001b[36m0:00:00\u001b[0m\n",
            "\u001b[2K     \u001b[90m━━━━━━━━━━━━━━━━━━━━━━━━━━━━━━━━━━━━━━━\u001b[0m \u001b[32m10.0/10.0 MB\u001b[0m \u001b[31m103.7 MB/s\u001b[0m eta \u001b[36m0:00:00\u001b[0m\n",
            "\u001b[2K     \u001b[90m━━━━━━━━━━━━━━━━━━━━━━━━━━━━━━━━━━━━━━━━\u001b[0m \u001b[32m10.0/10.0 MB\u001b[0m \u001b[31m26.5 MB/s\u001b[0m eta \u001b[36m0:00:00\u001b[0m\n",
            "\u001b[2K     \u001b[90m━━━━━━━━━━━━━━━━━━━━━━━━━━━━━━━━━━━━━━━━\u001b[0m \u001b[32m9.8/9.8 MB\u001b[0m \u001b[31m79.3 MB/s\u001b[0m eta \u001b[36m0:00:00\u001b[0m\n",
            "\u001b[2K     \u001b[90m━━━━━━━━━━━━━━━━━━━━━━━━━━━━━━━━━━━━━━━━\u001b[0m \u001b[32m9.8/9.8 MB\u001b[0m \u001b[31m35.3 MB/s\u001b[0m eta \u001b[36m0:00:00\u001b[0m\n",
            "\u001b[2K     \u001b[90m━━━━━━━━━━━━━━━━━━━━━━━━━━━━━━━━━━━━━━━━\u001b[0m \u001b[32m9.8/9.8 MB\u001b[0m \u001b[31m69.8 MB/s\u001b[0m eta \u001b[36m0:00:00\u001b[0m\n",
            "\u001b[2K     \u001b[90m━━━━━━━━━━━━━━━━━━━━━━━━━━━━━━━━━━━━━━━━\u001b[0m \u001b[32m9.8/9.8 MB\u001b[0m \u001b[31m68.8 MB/s\u001b[0m eta \u001b[36m0:00:00\u001b[0m\n",
            "\u001b[2K     \u001b[90m━━━━━━━━━━━━━━━━━━━━━━━━━━━━━━━━━━━━━━━━\u001b[0m \u001b[32m9.8/9.8 MB\u001b[0m \u001b[31m113.6 MB/s\u001b[0m eta \u001b[36m0:00:00\u001b[0m\n",
            "\u001b[2K     \u001b[90m━━━━━━━━━━━━━━━━━━━━━━━━━━━━━━━━━━━━━━━━\u001b[0m \u001b[32m9.7/9.7 MB\u001b[0m \u001b[31m72.8 MB/s\u001b[0m eta \u001b[36m0:00:00\u001b[0m\n",
            "\u001b[2K     \u001b[90m━━━━━━━━━━━━━━━━━━━━━━━━━━━━━━━━━━━━━━━━\u001b[0m \u001b[32m9.7/9.7 MB\u001b[0m \u001b[31m63.0 MB/s\u001b[0m eta \u001b[36m0:00:00\u001b[0m\n",
            "\u001b[2K     \u001b[90m━━━━━━━━━━━━━━━━━━━━━━━━━━━━━━━━━━━━━━━━\u001b[0m \u001b[32m9.7/9.7 MB\u001b[0m \u001b[31m98.4 MB/s\u001b[0m eta \u001b[36m0:00:00\u001b[0m\n",
            "\u001b[2K     \u001b[90m━━━━━━━━━━━━━━━━━━━━━━━━━━━━━━━━━━━━━━━━\u001b[0m \u001b[32m1.6/1.6 MB\u001b[0m \u001b[31m33.2 MB/s\u001b[0m eta \u001b[36m0:00:00\u001b[0m\n",
            "\u001b[2K     \u001b[90m━━━━━━━━━━━━━━━━━━━━━━━━━━━━━━━━━━━━━━\u001b[0m \u001b[32m529.8/529.8 kB\u001b[0m \u001b[31m23.4 MB/s\u001b[0m eta \u001b[36m0:00:00\u001b[0m\n",
            "\u001b[2K     \u001b[90m━━━━━━━━━━━━━━━━━━━━━━━━━━━━━━━━━━━━━━\u001b[0m \u001b[32m529.8/529.8 kB\u001b[0m \u001b[31m46.6 MB/s\u001b[0m eta \u001b[36m0:00:00\u001b[0m\n",
            "\u001b[2K     \u001b[90m━━━━━━━━━━━━━━━━━━━━━━━━━━━━━━━━━━━━━━\u001b[0m \u001b[32m529.7/529.7 kB\u001b[0m \u001b[31m46.7 MB/s\u001b[0m eta \u001b[36m0:00:00\u001b[0m\n",
            "\u001b[2K     \u001b[90m━━━━━━━━━━━━━━━━━━━━━━━━━━━━━━━━━━━━━━\u001b[0m \u001b[32m439.1/439.1 kB\u001b[0m \u001b[31m39.7 MB/s\u001b[0m eta \u001b[36m0:00:00\u001b[0m\n",
            "\u001b[2K     \u001b[90m━━━━━━━━━━━━━━━━━━━━━━━━━━━━━━━━━━━━━━\u001b[0m \u001b[32m439.1/439.1 kB\u001b[0m \u001b[31m46.5 MB/s\u001b[0m eta \u001b[36m0:00:00\u001b[0m\n",
            "\u001b[2K     \u001b[90m━━━━━━━━━━━━━━━━━━━━━━━━━━━━━━━━━━━━━━━━\u001b[0m \u001b[32m9.9/9.9 MB\u001b[0m \u001b[31m15.5 MB/s\u001b[0m eta \u001b[36m0:00:00\u001b[0m\n",
            "\u001b[2K     \u001b[90m━━━━━━━━━━━━━━━━━━━━━━━━━━━━━━━━━━━━━━━━\u001b[0m \u001b[32m9.9/9.9 MB\u001b[0m \u001b[31m48.8 MB/s\u001b[0m eta \u001b[36m0:00:00\u001b[0m\n",
            "\u001b[2K     \u001b[90m━━━━━━━━━━━━━━━━━━━━━━━━━━━━━━━━━━━━━━━━\u001b[0m \u001b[32m9.9/9.9 MB\u001b[0m \u001b[31m100.0 MB/s\u001b[0m eta \u001b[36m0:00:00\u001b[0m\n",
            "\u001b[2K     \u001b[90m━━━━━━━━━━━━━━━━━━━━━━━━━━━━━━━━━━━━━━━━\u001b[0m \u001b[32m9.9/9.9 MB\u001b[0m \u001b[31m47.9 MB/s\u001b[0m eta \u001b[36m0:00:00\u001b[0m\n",
            "\u001b[2K     \u001b[90m━━━━━━━━━━━━━━━━━━━━━━━━━━━━━━━━━━━━━━━━\u001b[0m \u001b[32m9.9/9.9 MB\u001b[0m \u001b[31m69.9 MB/s\u001b[0m eta \u001b[36m0:00:00\u001b[0m\n",
            "\u001b[2K     \u001b[90m━━━━━━━━━━━━━━━━━━━━━━━━━━━━━━━━━━━━━━━━\u001b[0m \u001b[32m9.9/9.9 MB\u001b[0m \u001b[31m85.8 MB/s\u001b[0m eta \u001b[36m0:00:00\u001b[0m\n",
            "\u001b[2K     \u001b[90m━━━━━━━━━━━━━━━━━━━━━━━━━━━━━━━━━━━━━━━━\u001b[0m \u001b[32m9.9/9.9 MB\u001b[0m \u001b[31m64.8 MB/s\u001b[0m eta \u001b[36m0:00:00\u001b[0m\n",
            "\u001b[?25h  Building wheel for pyngrok (setup.py) ... \u001b[?25l\u001b[?25hdone\n",
            "\u001b[31mERROR: pip's dependency resolver does not currently take into account all the packages that are installed. This behaviour is the source of the following dependency conflicts.\n",
            "fiona 1.9.4.post1 requires click~=8.0, but you have click 7.1.2 which is incompatible.\n",
            "flask 2.2.5 requires click>=8.0, but you have click 7.1.2 which is incompatible.\n",
            "dask 2023.8.0 requires click>=8.0, but you have click 7.1.2 which is incompatible.\n",
            "distributed 2023.8.0 requires click>=8.0, but you have click 7.1.2 which is incompatible.\n",
            "google-colab 1.0.0 requires notebook==6.4.8, but you have notebook 6.4.5 which is incompatible.\n",
            "pip-tools 6.13.0 requires click>=8, but you have click 7.1.2 which is incompatible.\u001b[0m\u001b[31m\n",
            "\u001b[0m"
          ]
        }
      ]
    },
    {
      "cell_type": "code",
      "source": [
        "from colabcode import ColabCode"
      ],
      "metadata": {
        "id": "aXgq60vE7ohi"
      },
      "execution_count": null,
      "outputs": []
    },
    {
      "cell_type": "code",
      "source": [
        "ColabCode(port=10000,password=\"helloworld\")"
      ],
      "metadata": {
        "colab": {
          "base_uri": "https://localhost:8080/"
        },
        "id": "RvJilCkZ7tEb",
        "outputId": "ff81bb3d-76e9-45c6-84ae-27efe86ca233"
      },
      "execution_count": null,
      "outputs": [
        {
          "output_type": "stream",
          "name": "stdout",
          "text": []
        },
        {
          "output_type": "stream",
          "name": "stderr",
          "text": [
            "WARNING:pyngrok.process.ngrok:t=2023-08-12T18:08:41+0000 lvl=warn msg=\"ngrok config file found at legacy location, move to XDG location\" xdg_path=/root/.config/ngrok/ngrok.yml legacy_path=/root/.ngrok2/ngrok.yml\n"
          ]
        },
        {
          "output_type": "stream",
          "name": "stdout",
          "text": [
            "Code Server can be accessed on: NgrokTunnel: \"https://0ae8-35-184-72-60.ngrok.io\" -> \"http://localhost:10000\"\n",
            "[2023-08-12T18:08:41.921Z] info  code-server 3.10.2 387b12ef4ca404ffd39d84834e1f0776e9e3c005\n",
            "[2023-08-12T18:08:41.927Z] info  Using user-data-dir ~/.local/share/code-server\n",
            "[2023-08-12T18:08:41.941Z] info  Using config file ~/.config/code-server/config.yaml\n",
            "[2023-08-12T18:08:41.941Z] info  HTTP server listening on http://127.0.0.1:10000 \n",
            "[2023-08-12T18:08:41.941Z] info    - Authentication is enabled\n",
            "[2023-08-12T18:08:41.942Z] info      - Using password from $PASSWORD\n",
            "[2023-08-12T18:08:41.942Z] info    - Not serving HTTPS \n"
          ]
        }
      ]
    },
    {
      "cell_type": "code",
      "source": [
        "from colab_ssh import launch_ssh\n",
        "launch_ssh()"
      ],
      "metadata": {
        "colab": {
          "base_uri": "https://localhost:8080/",
          "height": 194
        },
        "id": "5_KN9ySQ6uhA",
        "outputId": "dd34eb8a-f78b-4b8a-e70f-528cdac39062"
      },
      "execution_count": null,
      "outputs": [
        {
          "output_type": "error",
          "ename": "TypeError",
          "evalue": "ignored",
          "traceback": [
            "\u001b[0;31m---------------------------------------------------------------------------\u001b[0m",
            "\u001b[0;31mTypeError\u001b[0m                                 Traceback (most recent call last)",
            "\u001b[0;32m<ipython-input-3-ca33b8195651>\u001b[0m in \u001b[0;36m<cell line: 2>\u001b[0;34m()\u001b[0m\n\u001b[1;32m      1\u001b[0m \u001b[0;32mfrom\u001b[0m \u001b[0mcolab_ssh\u001b[0m \u001b[0;32mimport\u001b[0m \u001b[0mlaunch_ssh\u001b[0m\u001b[0;34m\u001b[0m\u001b[0;34m\u001b[0m\u001b[0m\n\u001b[0;32m----> 2\u001b[0;31m \u001b[0mlaunch_ssh\u001b[0m\u001b[0;34m(\u001b[0m\u001b[0;34m)\u001b[0m\u001b[0;34m\u001b[0m\u001b[0;34m\u001b[0m\u001b[0m\n\u001b[0m",
            "\u001b[0;31mTypeError\u001b[0m: launch_ssh() missing 1 required positional argument: 'token'"
          ]
        }
      ]
    },
    {
      "cell_type": "code",
      "source": [
        "import torch\n",
        "import matplotlib.pyplot as plt\n",
        "\n",
        "print(torch.__version__)"
      ],
      "metadata": {
        "colab": {
          "base_uri": "https://localhost:8080/"
        },
        "id": "A7rP7tFa3LeV",
        "outputId": "65e55cc9-6f4a-44fc-925d-4e33e5b6e2e5"
      },
      "execution_count": null,
      "outputs": [
        {
          "output_type": "stream",
          "name": "stdout",
          "text": [
            "2.0.1+cu118\n"
          ]
        }
      ]
    },
    {
      "cell_type": "code",
      "source": [
        "t1 = torch.tensor(7)\n",
        "t1"
      ],
      "metadata": {
        "colab": {
          "base_uri": "https://localhost:8080/"
        },
        "id": "GH9xQeDx3T2H",
        "outputId": "4ccb882f-2d24-46a4-dcff-84b00f38e861"
      },
      "execution_count": null,
      "outputs": [
        {
          "output_type": "execute_result",
          "data": {
            "text/plain": [
              "tensor(7)"
            ]
          },
          "metadata": {},
          "execution_count": 6
        }
      ]
    },
    {
      "cell_type": "code",
      "source": [
        "t1.ndim"
      ],
      "metadata": {
        "colab": {
          "base_uri": "https://localhost:8080/"
        },
        "id": "FiPXzPah8zJU",
        "outputId": "e207538b-243c-4f00-86c7-efc5a89ecb6c"
      },
      "execution_count": null,
      "outputs": [
        {
          "output_type": "execute_result",
          "data": {
            "text/plain": [
              "0"
            ]
          },
          "metadata": {},
          "execution_count": 5
        }
      ]
    },
    {
      "cell_type": "code",
      "source": [
        "t1.item()"
      ],
      "metadata": {
        "colab": {
          "base_uri": "https://localhost:8080/"
        },
        "id": "Q-ks0-mi82-A",
        "outputId": "06c00302-1477-42a4-e6f8-de8bf02e0b05"
      },
      "execution_count": null,
      "outputs": [
        {
          "output_type": "execute_result",
          "data": {
            "text/plain": [
              "7"
            ]
          },
          "metadata": {},
          "execution_count": 7
        }
      ]
    },
    {
      "cell_type": "code",
      "source": [
        "v1 = torch.tensor([7,7])\n",
        "v1"
      ],
      "metadata": {
        "colab": {
          "base_uri": "https://localhost:8080/"
        },
        "id": "C6ULWNPG9AWB",
        "outputId": "825a44ee-f7f2-4500-ac2c-b42376b55d72"
      },
      "execution_count": null,
      "outputs": [
        {
          "output_type": "execute_result",
          "data": {
            "text/plain": [
              "tensor([7, 7])"
            ]
          },
          "metadata": {},
          "execution_count": 11
        }
      ]
    },
    {
      "cell_type": "code",
      "source": [
        "v1.ndim"
      ],
      "metadata": {
        "colab": {
          "base_uri": "https://localhost:8080/"
        },
        "id": "33sBEbuT9rVa",
        "outputId": "4f929f1c-19ae-4db1-c458-ea4cc2769c01"
      },
      "execution_count": null,
      "outputs": [
        {
          "output_type": "execute_result",
          "data": {
            "text/plain": [
              "1"
            ]
          },
          "metadata": {},
          "execution_count": 12
        }
      ]
    },
    {
      "cell_type": "code",
      "source": [
        "v1.shape"
      ],
      "metadata": {
        "colab": {
          "base_uri": "https://localhost:8080/"
        },
        "id": "fNWLzDzB-koj",
        "outputId": "dc7666b8-78d6-407d-be70-70e8f88bcd1a"
      },
      "execution_count": null,
      "outputs": [
        {
          "output_type": "execute_result",
          "data": {
            "text/plain": [
              "torch.Size([2])"
            ]
          },
          "metadata": {},
          "execution_count": 14
        }
      ]
    },
    {
      "cell_type": "code",
      "source": [
        "m1 = torch.tensor([[7,8],[9,10]])\n",
        "m1"
      ],
      "metadata": {
        "colab": {
          "base_uri": "https://localhost:8080/"
        },
        "id": "UB3R88ZA-nf8",
        "outputId": "ada95296-0796-4a33-95ca-a26ccbe10c26"
      },
      "execution_count": null,
      "outputs": [
        {
          "output_type": "execute_result",
          "data": {
            "text/plain": [
              "tensor([[ 7,  8],\n",
              "        [ 9, 10]])"
            ]
          },
          "metadata": {},
          "execution_count": 7
        }
      ]
    },
    {
      "cell_type": "code",
      "source": [
        "m1.ndim"
      ],
      "metadata": {
        "colab": {
          "base_uri": "https://localhost:8080/"
        },
        "id": "fPv8nB8j_F6k",
        "outputId": "8921b097-0974-4d3c-b07a-5bf73e48feb9"
      },
      "execution_count": null,
      "outputs": [
        {
          "output_type": "execute_result",
          "data": {
            "text/plain": [
              "2"
            ]
          },
          "metadata": {},
          "execution_count": 8
        }
      ]
    },
    {
      "cell_type": "code",
      "source": [
        "m1.shape"
      ],
      "metadata": {
        "colab": {
          "base_uri": "https://localhost:8080/"
        },
        "id": "IgCIv-eyXm9_",
        "outputId": "a2c5fe8f-6072-48f0-9bb2-45a1381aeae9"
      },
      "execution_count": null,
      "outputs": [
        {
          "output_type": "execute_result",
          "data": {
            "text/plain": [
              "torch.Size([2, 2])"
            ]
          },
          "metadata": {},
          "execution_count": 11
        }
      ]
    },
    {
      "cell_type": "code",
      "source": [
        "m1[0]"
      ],
      "metadata": {
        "colab": {
          "base_uri": "https://localhost:8080/"
        },
        "id": "dUKg9Awq_LQj",
        "outputId": "9308fadc-5705-40fa-db57-6e67c6ae6803"
      },
      "execution_count": null,
      "outputs": [
        {
          "output_type": "execute_result",
          "data": {
            "text/plain": [
              "tensor([7, 8])"
            ]
          },
          "metadata": {},
          "execution_count": 9
        }
      ]
    },
    {
      "cell_type": "code",
      "source": [
        "m1[1]"
      ],
      "metadata": {
        "colab": {
          "base_uri": "https://localhost:8080/"
        },
        "id": "mGoOYfwdXbXp",
        "outputId": "73f15d95-715f-4e12-caec-b170534c6e2c"
      },
      "execution_count": null,
      "outputs": [
        {
          "output_type": "execute_result",
          "data": {
            "text/plain": [
              "tensor([ 9, 10])"
            ]
          },
          "metadata": {},
          "execution_count": 10
        }
      ]
    },
    {
      "cell_type": "code",
      "source": [
        "m2 = torch.tensor([[1,3],[2,3],[5,6]])\n",
        "m2"
      ],
      "metadata": {
        "colab": {
          "base_uri": "https://localhost:8080/"
        },
        "id": "c_l0_bGFW9pd",
        "outputId": "73c6dbcf-369c-4237-8f2f-353f0149cb22"
      },
      "execution_count": null,
      "outputs": [
        {
          "output_type": "execute_result",
          "data": {
            "text/plain": [
              "tensor([[1, 3],\n",
              "        [2, 3],\n",
              "        [5, 6]])"
            ]
          },
          "metadata": {},
          "execution_count": 4
        }
      ]
    },
    {
      "cell_type": "code",
      "source": [
        "m2.shape"
      ],
      "metadata": {
        "colab": {
          "base_uri": "https://localhost:8080/"
        },
        "id": "zFc9j67nXKkB",
        "outputId": "cfc18cbe-2dbf-4397-cc00-e3430bf92a39"
      },
      "execution_count": null,
      "outputs": [
        {
          "output_type": "execute_result",
          "data": {
            "text/plain": [
              "torch.Size([3, 2])"
            ]
          },
          "metadata": {},
          "execution_count": 5
        }
      ]
    },
    {
      "cell_type": "code",
      "source": [
        "m3 = torch.tensor([[[1,3],[2,3],[5,6]]])\n",
        "m3"
      ],
      "metadata": {
        "colab": {
          "base_uri": "https://localhost:8080/"
        },
        "id": "oVC5sBP9Xrc_",
        "outputId": "d31c4613-7efe-4614-ebe2-7459e3a905e2"
      },
      "execution_count": null,
      "outputs": [
        {
          "output_type": "execute_result",
          "data": {
            "text/plain": [
              "tensor([[[1, 3],\n",
              "         [2, 3],\n",
              "         [5, 6]]])"
            ]
          },
          "metadata": {},
          "execution_count": 12
        }
      ]
    },
    {
      "cell_type": "code",
      "source": [
        "m3.ndim"
      ],
      "metadata": {
        "colab": {
          "base_uri": "https://localhost:8080/"
        },
        "id": "t56pdESUYwoN",
        "outputId": "669787d2-c8c0-4ee9-9073-2a664bac3417"
      },
      "execution_count": null,
      "outputs": [
        {
          "output_type": "execute_result",
          "data": {
            "text/plain": [
              "3"
            ]
          },
          "metadata": {},
          "execution_count": 14
        }
      ]
    },
    {
      "cell_type": "code",
      "source": [
        "m3.shape"
      ],
      "metadata": {
        "colab": {
          "base_uri": "https://localhost:8080/"
        },
        "id": "tCqH6VAlYy5i",
        "outputId": "f9dcabd2-4835-4b0b-d800-31fb93df183d"
      },
      "execution_count": null,
      "outputs": [
        {
          "output_type": "execute_result",
          "data": {
            "text/plain": [
              "torch.Size([1, 3, 2])"
            ]
          },
          "metadata": {},
          "execution_count": 15
        }
      ]
    },
    {
      "cell_type": "code",
      "source": [
        "m3[0]"
      ],
      "metadata": {
        "colab": {
          "base_uri": "https://localhost:8080/"
        },
        "id": "XIHjb89KZCx7",
        "outputId": "80c91e1a-5d05-4ac8-9b25-867e53f1fc93"
      },
      "execution_count": null,
      "outputs": [
        {
          "output_type": "execute_result",
          "data": {
            "text/plain": [
              "tensor([[1, 3],\n",
              "        [2, 3],\n",
              "        [5, 6]])"
            ]
          },
          "metadata": {},
          "execution_count": 16
        }
      ]
    },
    {
      "cell_type": "code",
      "source": [
        "t1 = torch.rand(3,4)\n",
        "t1"
      ],
      "metadata": {
        "colab": {
          "base_uri": "https://localhost:8080/"
        },
        "id": "GOydDx6VaAb7",
        "outputId": "6de86846-b722-41fb-b7d2-fdb4b6aa6fda"
      },
      "execution_count": null,
      "outputs": [
        {
          "output_type": "execute_result",
          "data": {
            "text/plain": [
              "tensor([[0.9080, 0.3634, 0.9999, 0.7139],\n",
              "        [0.3513, 0.1233, 0.4474, 0.3934],\n",
              "        [0.2628, 0.0534, 0.6280, 0.5438]])"
            ]
          },
          "metadata": {},
          "execution_count": 6
        }
      ]
    },
    {
      "cell_type": "code",
      "source": [
        "t1.ndim"
      ],
      "metadata": {
        "colab": {
          "base_uri": "https://localhost:8080/"
        },
        "id": "oWrN3ci8cGUj",
        "outputId": "acbcd6ce-96e7-4e85-fce8-d7bbf039a21e"
      },
      "execution_count": null,
      "outputs": [
        {
          "output_type": "execute_result",
          "data": {
            "text/plain": [
              "2"
            ]
          },
          "metadata": {},
          "execution_count": 22
        }
      ]
    },
    {
      "cell_type": "code",
      "source": [
        "t1[0]"
      ],
      "metadata": {
        "colab": {
          "base_uri": "https://localhost:8080/"
        },
        "id": "oc5EDmTwcQlb",
        "outputId": "ece4d8f5-b9d5-42f7-b17b-dd05c7674cc1"
      },
      "execution_count": null,
      "outputs": [
        {
          "output_type": "execute_result",
          "data": {
            "text/plain": [
              "tensor([0.0227, 0.0401, 0.9564, 0.7566])"
            ]
          },
          "metadata": {},
          "execution_count": 23
        }
      ]
    },
    {
      "cell_type": "code",
      "source": [
        "t1[1]"
      ],
      "metadata": {
        "colab": {
          "base_uri": "https://localhost:8080/"
        },
        "id": "QWUVfvHAcUwq",
        "outputId": "41673097-1a26-4413-e59f-7db93293b354"
      },
      "execution_count": null,
      "outputs": [
        {
          "output_type": "execute_result",
          "data": {
            "text/plain": [
              "tensor([0.8610, 0.5212, 0.3605, 0.8766])"
            ]
          },
          "metadata": {},
          "execution_count": 24
        }
      ]
    },
    {
      "cell_type": "code",
      "source": [
        "t1[2]"
      ],
      "metadata": {
        "colab": {
          "base_uri": "https://localhost:8080/"
        },
        "id": "WR1dW5LScWoc",
        "outputId": "ca68ae9e-1149-4009-89f2-e460681769cd"
      },
      "execution_count": null,
      "outputs": [
        {
          "output_type": "execute_result",
          "data": {
            "text/plain": [
              "tensor([0.2487, 0.6596, 0.0652, 0.2040])"
            ]
          },
          "metadata": {},
          "execution_count": 25
        }
      ]
    },
    {
      "cell_type": "code",
      "source": [
        " img = torch.rand(3,224,224)\n",
        " img.shape,img.ndim"
      ],
      "metadata": {
        "colab": {
          "base_uri": "https://localhost:8080/"
        },
        "id": "1aITlTcKdD71",
        "outputId": "9be180a2-d7af-455b-940d-fe08ed68bc09"
      },
      "execution_count": null,
      "outputs": [
        {
          "output_type": "execute_result",
          "data": {
            "text/plain": [
              "(torch.Size([224, 224, 3]), 3)"
            ]
          },
          "metadata": {},
          "execution_count": 2
        }
      ]
    },
    {
      "cell_type": "code",
      "source": [
        "img2 = torch.rand(1,3,224,224)\n",
        "img2.shape,img2.ndim"
      ],
      "metadata": {
        "colab": {
          "base_uri": "https://localhost:8080/"
        },
        "id": "tMSF9I3PvZkm",
        "outputId": "a92cf278-7505-4387-ae8f-ad4adc514209"
      },
      "execution_count": null,
      "outputs": [
        {
          "output_type": "execute_result",
          "data": {
            "text/plain": [
              "(torch.Size([1, 3, 224, 224]), 4)"
            ]
          },
          "metadata": {},
          "execution_count": 3
        }
      ]
    },
    {
      "cell_type": "code",
      "source": [
        "z1 = torch.zeros(3,4)\n",
        "z1"
      ],
      "metadata": {
        "colab": {
          "base_uri": "https://localhost:8080/"
        },
        "id": "7uqiVNetvhiG",
        "outputId": "57d6016a-a737-4f81-ca07-0ced4b749c63"
      },
      "execution_count": null,
      "outputs": [
        {
          "output_type": "execute_result",
          "data": {
            "text/plain": [
              "tensor([[0., 0., 0., 0.],\n",
              "        [0., 0., 0., 0.],\n",
              "        [0., 0., 0., 0.]])"
            ]
          },
          "metadata": {},
          "execution_count": 4
        }
      ]
    },
    {
      "cell_type": "code",
      "source": [
        "z1*t1"
      ],
      "metadata": {
        "colab": {
          "base_uri": "https://localhost:8080/"
        },
        "id": "UyqTacNKxuC9",
        "outputId": "913b5920-e361-4a7b-b039-cf621ff626a1"
      },
      "execution_count": null,
      "outputs": [
        {
          "output_type": "execute_result",
          "data": {
            "text/plain": [
              "tensor([[0., 0., 0., 0.],\n",
              "        [0., 0., 0., 0.],\n",
              "        [0., 0., 0., 0.]])"
            ]
          },
          "metadata": {},
          "execution_count": 7
        }
      ]
    },
    {
      "cell_type": "code",
      "source": [
        "w1 = torch.ones(3,4)\n",
        "w1"
      ],
      "metadata": {
        "colab": {
          "base_uri": "https://localhost:8080/"
        },
        "id": "f6ahQcszx1pe",
        "outputId": "2df62eed-aa82-485e-899f-4cd6df76b630"
      },
      "execution_count": null,
      "outputs": [
        {
          "output_type": "execute_result",
          "data": {
            "text/plain": [
              "tensor([[1., 1., 1., 1.],\n",
              "        [1., 1., 1., 1.],\n",
              "        [1., 1., 1., 1.]])"
            ]
          },
          "metadata": {},
          "execution_count": 8
        }
      ]
    },
    {
      "cell_type": "code",
      "source": [
        "w1.dtype"
      ],
      "metadata": {
        "colab": {
          "base_uri": "https://localhost:8080/"
        },
        "id": "3ZHDevW0yBJE",
        "outputId": "3672d71b-11b3-4d07-9a59-7a83225b9dad"
      },
      "execution_count": null,
      "outputs": [
        {
          "output_type": "execute_result",
          "data": {
            "text/plain": [
              "torch.float32"
            ]
          },
          "metadata": {},
          "execution_count": 9
        }
      ]
    },
    {
      "cell_type": "code",
      "source": [
        "r1 = torch.range(0,10)\n",
        "r1,r1.shape,r1.ndim"
      ],
      "metadata": {
        "colab": {
          "base_uri": "https://localhost:8080/"
        },
        "id": "TUqUCjpIyDI0",
        "outputId": "0d4987e5-a8ea-479a-9ae0-e8c1f24204a0"
      },
      "execution_count": null,
      "outputs": [
        {
          "output_type": "stream",
          "name": "stderr",
          "text": [
            "<ipython-input-15-b627c1db989b>:1: UserWarning: torch.range is deprecated and will be removed in a future release because its behavior is inconsistent with Python's range builtin. Instead, use torch.arange, which produces values in [start, end).\n",
            "  r1 = torch.range(0,10)\n"
          ]
        },
        {
          "output_type": "execute_result",
          "data": {
            "text/plain": [
              "(tensor([ 0.,  1.,  2.,  3.,  4.,  5.,  6.,  7.,  8.,  9., 10.]),\n",
              " torch.Size([11]),\n",
              " 1)"
            ]
          },
          "metadata": {},
          "execution_count": 15
        }
      ]
    },
    {
      "cell_type": "code",
      "source": [
        "r2 = torch.arange(10)\n",
        "r2"
      ],
      "metadata": {
        "colab": {
          "base_uri": "https://localhost:8080/"
        },
        "id": "hdRURj80y3Bq",
        "outputId": "582bcbb8-4086-4d1d-be06-0740a37462dc"
      },
      "execution_count": null,
      "outputs": [
        {
          "output_type": "execute_result",
          "data": {
            "text/plain": [
              "tensor([0, 1, 2, 3, 4, 5, 6, 7, 8, 9])"
            ]
          },
          "metadata": {},
          "execution_count": 16
        }
      ]
    },
    {
      "cell_type": "code",
      "source": [
        "t1 = torch.zeros_like(r2)\n",
        "t1"
      ],
      "metadata": {
        "colab": {
          "base_uri": "https://localhost:8080/"
        },
        "id": "MKRThcxnzi4J",
        "outputId": "17aebada-61d4-49e7-90f5-587049dbb4d6"
      },
      "execution_count": null,
      "outputs": [
        {
          "output_type": "execute_result",
          "data": {
            "text/plain": [
              "tensor([0, 0, 0, 0, 0, 0, 0, 0, 0, 0])"
            ]
          },
          "metadata": {},
          "execution_count": 18
        }
      ]
    },
    {
      "cell_type": "code",
      "source": [
        "t1 = torch.tensor([3,4],dtype=None)\n",
        "t1.dtype"
      ],
      "metadata": {
        "colab": {
          "base_uri": "https://localhost:8080/"
        },
        "id": "5BynkqHn0Xbf",
        "outputId": "322668b1-bf94-4823-d8de-e437db86f9cf"
      },
      "execution_count": null,
      "outputs": [
        {
          "output_type": "execute_result",
          "data": {
            "text/plain": [
              "torch.int64"
            ]
          },
          "metadata": {},
          "execution_count": 19
        }
      ]
    },
    {
      "cell_type": "code",
      "source": [
        "t1 = torch.tensor([3,4],dtype=torch.float16)\n",
        "t1.dtype,t1.device,t1.requires_grad"
      ],
      "metadata": {
        "colab": {
          "base_uri": "https://localhost:8080/"
        },
        "id": "oLkIZQQA0gj9",
        "outputId": "69624f8a-20f7-47b9-c245-1748b977d323"
      },
      "execution_count": null,
      "outputs": [
        {
          "output_type": "execute_result",
          "data": {
            "text/plain": [
              "(torch.float16, device(type='cpu'), False)"
            ]
          },
          "metadata": {},
          "execution_count": 23
        }
      ]
    },
    {
      "cell_type": "code",
      "source": [
        "t1 = torch.tensor([3,4],dtype=None,device=None,requires_grad=False)\n",
        "t1.dtype,t1.device,t1.requires_grad"
      ],
      "metadata": {
        "colab": {
          "base_uri": "https://localhost:8080/"
        },
        "id": "5TRzaGnQ0ox5",
        "outputId": "43f83beb-6949-47e5-9adc-30c3efc1e256"
      },
      "execution_count": null,
      "outputs": [
        {
          "output_type": "execute_result",
          "data": {
            "text/plain": [
              "(torch.int64, device(type='cpu'), False)"
            ]
          },
          "metadata": {},
          "execution_count": 24
        }
      ]
    },
    {
      "cell_type": "code",
      "source": [
        "t1 = t1.type(torch.float16)\n",
        "t1.dtype,t1"
      ],
      "metadata": {
        "colab": {
          "base_uri": "https://localhost:8080/"
        },
        "id": "LvHP69Gw1LHv",
        "outputId": "b14d0ee7-2304-45fc-c3b4-3f67a27c3b38"
      },
      "execution_count": null,
      "outputs": [
        {
          "output_type": "execute_result",
          "data": {
            "text/plain": [
              "(torch.float16, tensor([3., 4.], dtype=torch.float16))"
            ]
          },
          "metadata": {},
          "execution_count": 28
        }
      ]
    },
    {
      "cell_type": "code",
      "source": [
        "t1 = torch.tensor([3,4],dtype=torch.float16)\n",
        "t2 = torch.tensor([3,4],dtype=torch.float32)\n",
        "t1*t2"
      ],
      "metadata": {
        "colab": {
          "base_uri": "https://localhost:8080/"
        },
        "id": "3UN2d0979Q3H",
        "outputId": "a24a372b-626d-422f-8a51-91f6642a5276"
      },
      "execution_count": null,
      "outputs": [
        {
          "output_type": "execute_result",
          "data": {
            "text/plain": [
              "tensor([ 9., 16.])"
            ]
          },
          "metadata": {},
          "execution_count": 2
        }
      ]
    },
    {
      "cell_type": "code",
      "source": [
        "t1 = torch.tensor([3,4],dtype=torch.float16)\n",
        "t2 = torch.tensor([3,4],dtype=torch.int8)\n",
        "t1*t2"
      ],
      "metadata": {
        "colab": {
          "base_uri": "https://localhost:8080/"
        },
        "id": "D7MUxBjAiGqe",
        "outputId": "c7fe1f4e-4944-47d7-bd3b-4ce5563e28d2"
      },
      "execution_count": null,
      "outputs": [
        {
          "output_type": "execute_result",
          "data": {
            "text/plain": [
              "tensor([ 9., 16.], dtype=torch.float16)"
            ]
          },
          "metadata": {},
          "execution_count": 3
        }
      ]
    },
    {
      "cell_type": "code",
      "source": [
        "t1 = torch.tensor([3,4],dtype=torch.long)\n",
        "t2 = torch.tensor([3,4],dtype=torch.int8)\n",
        "t1*t2"
      ],
      "metadata": {
        "colab": {
          "base_uri": "https://localhost:8080/"
        },
        "id": "w30a0OStie8m",
        "outputId": "6ffb2466-2ce4-46bd-f39c-c154ca6177cf"
      },
      "execution_count": null,
      "outputs": [
        {
          "output_type": "execute_result",
          "data": {
            "text/plain": [
              "tensor([ 9, 16])"
            ]
          },
          "metadata": {},
          "execution_count": 4
        }
      ]
    },
    {
      "cell_type": "code",
      "source": [
        "t1 = torch.rand(3,4)\n",
        "t1,t1.dtype,t1.size(),t1.shape,t1.device"
      ],
      "metadata": {
        "colab": {
          "base_uri": "https://localhost:8080/"
        },
        "id": "5FZ1_B7qjO75",
        "outputId": "10c721be-0151-4757-82ea-85fa5ef65fab"
      },
      "execution_count": null,
      "outputs": [
        {
          "output_type": "execute_result",
          "data": {
            "text/plain": [
              "(tensor([[0.1923, 0.3631, 0.9528, 0.7176],\n",
              "         [0.2994, 0.9684, 0.7104, 0.8377],\n",
              "         [0.9090, 0.7404, 0.0775, 0.6959]]),\n",
              " torch.float32,\n",
              " torch.Size([3, 4]),\n",
              " torch.Size([3, 4]),\n",
              " device(type='cpu'))"
            ]
          },
          "metadata": {},
          "execution_count": 8
        }
      ]
    },
    {
      "cell_type": "code",
      "source": [
        "t1 = torch.tensor([1,2,3])\n",
        "t1 + 10"
      ],
      "metadata": {
        "colab": {
          "base_uri": "https://localhost:8080/"
        },
        "id": "XAU2yDAvmGEM",
        "outputId": "15e22ecd-638b-4145-dae9-052a289752e5"
      },
      "execution_count": null,
      "outputs": [
        {
          "output_type": "execute_result",
          "data": {
            "text/plain": [
              "tensor([11, 12, 13])"
            ]
          },
          "metadata": {},
          "execution_count": 4
        }
      ]
    },
    {
      "cell_type": "code",
      "source": [
        "t1*10"
      ],
      "metadata": {
        "colab": {
          "base_uri": "https://localhost:8080/"
        },
        "id": "IBJ5PbWgnkzk",
        "outputId": "c3e06a9e-d5e6-463a-c9eb-c2d5b73a9603"
      },
      "execution_count": null,
      "outputs": [
        {
          "output_type": "execute_result",
          "data": {
            "text/plain": [
              "tensor([10, 20, 30])"
            ]
          },
          "metadata": {},
          "execution_count": 5
        }
      ]
    },
    {
      "cell_type": "code",
      "source": [
        "t1-10"
      ],
      "metadata": {
        "colab": {
          "base_uri": "https://localhost:8080/"
        },
        "id": "ddCKzRvsnp93",
        "outputId": "e347c4ff-62e5-45c9-b65e-e0088f702f9a"
      },
      "execution_count": null,
      "outputs": [
        {
          "output_type": "execute_result",
          "data": {
            "text/plain": [
              "tensor([-9, -8, -7])"
            ]
          },
          "metadata": {},
          "execution_count": 6
        }
      ]
    },
    {
      "cell_type": "code",
      "source": [
        "torch.mul(t1,10)"
      ],
      "metadata": {
        "colab": {
          "base_uri": "https://localhost:8080/"
        },
        "id": "z8JygqdlFa2U",
        "outputId": "f691ea93-0dc8-4c9a-bf7d-05a2e2dd1b6f"
      },
      "execution_count": null,
      "outputs": [
        {
          "output_type": "execute_result",
          "data": {
            "text/plain": [
              "tensor([10, 20, 30])"
            ]
          },
          "metadata": {},
          "execution_count": 7
        }
      ]
    },
    {
      "cell_type": "code",
      "source": [
        "torch.add(t1,10)"
      ],
      "metadata": {
        "colab": {
          "base_uri": "https://localhost:8080/"
        },
        "id": "A5pJHUmrFi9o",
        "outputId": "2751f4f7-5215-459c-e513-121f4572051c"
      },
      "execution_count": null,
      "outputs": [
        {
          "output_type": "execute_result",
          "data": {
            "text/plain": [
              "tensor([11, 12, 13])"
            ]
          },
          "metadata": {},
          "execution_count": 8
        }
      ]
    },
    {
      "cell_type": "code",
      "source": [
        "torch.matmul(t1,t1)"
      ],
      "metadata": {
        "colab": {
          "base_uri": "https://localhost:8080/"
        },
        "id": "muunCTYVFtuB",
        "outputId": "de3eb760-a5e6-48bb-d8b1-ee63ce0405f6"
      },
      "execution_count": null,
      "outputs": [
        {
          "output_type": "execute_result",
          "data": {
            "text/plain": [
              "tensor(14)"
            ]
          },
          "metadata": {},
          "execution_count": 9
        }
      ]
    },
    {
      "cell_type": "code",
      "source": [
        "t1 = torch.rand(3,4)\n",
        "t2 = torch.rand(4,3)"
      ],
      "metadata": {
        "id": "DxY3gCF_LoEK"
      },
      "execution_count": null,
      "outputs": []
    },
    {
      "cell_type": "code",
      "source": [
        "t1.shape,t2.shape"
      ],
      "metadata": {
        "colab": {
          "base_uri": "https://localhost:8080/"
        },
        "id": "9wF_Cy1hLyey",
        "outputId": "1f980f89-c50d-4bd2-a621-498ae8d82349"
      },
      "execution_count": null,
      "outputs": [
        {
          "output_type": "execute_result",
          "data": {
            "text/plain": [
              "(torch.Size([3, 4]), torch.Size([4, 3]))"
            ]
          },
          "metadata": {},
          "execution_count": 14
        }
      ]
    },
    {
      "cell_type": "code",
      "source": [
        " %%time\n",
        " torch.matmul(t1,t2)"
      ],
      "metadata": {
        "colab": {
          "base_uri": "https://localhost:8080/"
        },
        "id": "TvOdyVmlLtg2",
        "outputId": "5d44b004-7a0b-4038-f5de-10a9fe3b4813"
      },
      "execution_count": null,
      "outputs": [
        {
          "output_type": "stream",
          "name": "stdout",
          "text": [
            "CPU times: user 378 µs, sys: 36 µs, total: 414 µs\n",
            "Wall time: 291 µs\n"
          ]
        },
        {
          "output_type": "execute_result",
          "data": {
            "text/plain": [
              "tensor([[1.1519, 0.2500, 1.3258],\n",
              "        [1.1380, 0.3673, 1.2415],\n",
              "        [1.3825, 0.4242, 1.4083]])"
            ]
          },
          "metadata": {},
          "execution_count": 16
        }
      ]
    },
    {
      "cell_type": "code",
      "source": [
        " %%time\n",
        " torch.mm(t1,t2)"
      ],
      "metadata": {
        "colab": {
          "base_uri": "https://localhost:8080/"
        },
        "id": "KHcC8buyNF8w",
        "outputId": "5ac638b8-ae58-4adb-d841-3fb9e6ebff6a"
      },
      "execution_count": null,
      "outputs": [
        {
          "output_type": "stream",
          "name": "stdout",
          "text": [
            "CPU times: user 1.04 ms, sys: 4 µs, total: 1.04 ms\n",
            "Wall time: 2.74 ms\n"
          ]
        },
        {
          "output_type": "execute_result",
          "data": {
            "text/plain": [
              "tensor([[1.1519, 0.2500, 1.3258],\n",
              "        [1.1380, 0.3673, 1.2415],\n",
              "        [1.3825, 0.4242, 1.4083]])"
            ]
          },
          "metadata": {},
          "execution_count": 17
        }
      ]
    },
    {
      "cell_type": "code",
      "source": [
        "t1 = torch.rand(3,4)\n",
        "t2 = torch.rand(3,4)"
      ],
      "metadata": {
        "id": "YjYPX6MIVuwg"
      },
      "execution_count": null,
      "outputs": []
    },
    {
      "cell_type": "code",
      "source": [
        "t1,t2"
      ],
      "metadata": {
        "colab": {
          "base_uri": "https://localhost:8080/"
        },
        "id": "OAv68tU6VyiJ",
        "outputId": "76531d40-e927-4125-8c00-40c4c8ef176c"
      },
      "execution_count": null,
      "outputs": [
        {
          "output_type": "execute_result",
          "data": {
            "text/plain": [
              "(tensor([[0.2301, 0.0265, 0.3407, 0.7450],\n",
              "         [0.1391, 0.0846, 0.9996, 0.8855],\n",
              "         [0.3192, 0.4707, 0.5169, 0.3339]]),\n",
              " tensor([[0.1281, 0.6173, 0.1107, 0.6092],\n",
              "         [0.6255, 0.9003, 0.9818, 0.5899],\n",
              "         [0.4471, 0.9926, 0.1908, 0.3893]]))"
            ]
          },
          "metadata": {},
          "execution_count": 19
        }
      ]
    },
    {
      "cell_type": "code",
      "source": [
        "t2.T"
      ],
      "metadata": {
        "colab": {
          "base_uri": "https://localhost:8080/"
        },
        "id": "xe6fruFvV0eG",
        "outputId": "3d986099-ad11-4357-dd1a-7f64d425599f"
      },
      "execution_count": null,
      "outputs": [
        {
          "output_type": "execute_result",
          "data": {
            "text/plain": [
              "tensor([[0.1281, 0.6255, 0.4471],\n",
              "        [0.6173, 0.9003, 0.9926],\n",
              "        [0.1107, 0.9818, 0.1908],\n",
              "        [0.6092, 0.5899, 0.3893]])"
            ]
          },
          "metadata": {},
          "execution_count": 20
        }
      ]
    },
    {
      "cell_type": "code",
      "source": [
        "torch.mm(t1,t2)"
      ],
      "metadata": {
        "colab": {
          "base_uri": "https://localhost:8080/",
          "height": 167
        },
        "id": "bJWVi1_nWE_7",
        "outputId": "14a9eef5-89bb-44b0-c030-200006148b09"
      },
      "execution_count": null,
      "outputs": [
        {
          "output_type": "error",
          "ename": "RuntimeError",
          "evalue": "ignored",
          "traceback": [
            "\u001b[0;31m---------------------------------------------------------------------------\u001b[0m",
            "\u001b[0;31mRuntimeError\u001b[0m                              Traceback (most recent call last)",
            "\u001b[0;32m<ipython-input-21-3637613f646d>\u001b[0m in \u001b[0;36m<cell line: 1>\u001b[0;34m()\u001b[0m\n\u001b[0;32m----> 1\u001b[0;31m \u001b[0mtorch\u001b[0m\u001b[0;34m.\u001b[0m\u001b[0mmm\u001b[0m\u001b[0;34m(\u001b[0m\u001b[0mt1\u001b[0m\u001b[0;34m,\u001b[0m\u001b[0mt2\u001b[0m\u001b[0;34m)\u001b[0m\u001b[0;34m\u001b[0m\u001b[0;34m\u001b[0m\u001b[0m\n\u001b[0m",
            "\u001b[0;31mRuntimeError\u001b[0m: mat1 and mat2 shapes cannot be multiplied (3x4 and 3x4)"
          ]
        }
      ]
    },
    {
      "cell_type": "code",
      "source": [
        "torch.mm(t1,t2.T)"
      ],
      "metadata": {
        "colab": {
          "base_uri": "https://localhost:8080/"
        },
        "id": "HazYh7g4WKu6",
        "outputId": "585a6ebd-28b4-4e21-f181-91f3bffcdf4c"
      },
      "execution_count": null,
      "outputs": [
        {
          "output_type": "execute_result",
          "data": {
            "text/plain": [
              "tensor([[0.5374, 0.9417, 0.4842],\n",
              "        [0.7202, 1.6669, 0.6815],\n",
              "        [0.5921, 1.3280, 0.8386]])"
            ]
          },
          "metadata": {},
          "execution_count": 22
        }
      ]
    },
    {
      "cell_type": "code",
      "source": [
        "x = torch.arange(0,100,10)\n",
        "x"
      ],
      "metadata": {
        "colab": {
          "base_uri": "https://localhost:8080/"
        },
        "id": "aF0NA2ghWNtr",
        "outputId": "10376190-96ed-4fca-da62-869f0cce910b"
      },
      "execution_count": null,
      "outputs": [
        {
          "output_type": "execute_result",
          "data": {
            "text/plain": [
              "tensor([ 0, 10, 20, 30, 40, 50, 60, 70, 80, 90])"
            ]
          },
          "metadata": {},
          "execution_count": 2
        }
      ]
    },
    {
      "cell_type": "code",
      "source": [
        "x.min(),x.max()"
      ],
      "metadata": {
        "colab": {
          "base_uri": "https://localhost:8080/"
        },
        "id": "iNG-pw8FYtRn",
        "outputId": "e7952d34-aec2-4039-a667-3a1400bb06be"
      },
      "execution_count": null,
      "outputs": [
        {
          "output_type": "execute_result",
          "data": {
            "text/plain": [
              "(tensor(0), tensor(90))"
            ]
          },
          "metadata": {},
          "execution_count": 24
        }
      ]
    },
    {
      "cell_type": "code",
      "source": [
        "x.dtype"
      ],
      "metadata": {
        "colab": {
          "base_uri": "https://localhost:8080/"
        },
        "id": "2d0HVgi3Y47I",
        "outputId": "49e9ae8c-1c5a-4962-b383-c72ffac1b8c9"
      },
      "execution_count": null,
      "outputs": [
        {
          "output_type": "execute_result",
          "data": {
            "text/plain": [
              "torch.int64"
            ]
          },
          "metadata": {},
          "execution_count": 25
        }
      ]
    },
    {
      "cell_type": "code",
      "source": [
        "x = x.type(torch.float32)\n",
        "x.dtype"
      ],
      "metadata": {
        "colab": {
          "base_uri": "https://localhost:8080/"
        },
        "id": "gGOMupTaZPF7",
        "outputId": "1ca8fed1-b16d-4455-93fb-682129dbf66e"
      },
      "execution_count": null,
      "outputs": [
        {
          "output_type": "execute_result",
          "data": {
            "text/plain": [
              "torch.float32"
            ]
          },
          "metadata": {},
          "execution_count": 3
        }
      ]
    },
    {
      "cell_type": "code",
      "source": [
        "x.mean()"
      ],
      "metadata": {
        "colab": {
          "base_uri": "https://localhost:8080/"
        },
        "id": "EM2fJtgCZh41",
        "outputId": "2a787125-7f1f-4f74-cf92-89a09db5659d"
      },
      "execution_count": null,
      "outputs": [
        {
          "output_type": "execute_result",
          "data": {
            "text/plain": [
              "tensor(45.)"
            ]
          },
          "metadata": {},
          "execution_count": 31
        }
      ]
    },
    {
      "cell_type": "code",
      "source": [
        "x.sum()"
      ],
      "metadata": {
        "colab": {
          "base_uri": "https://localhost:8080/"
        },
        "id": "wrnYryaOZk0R",
        "outputId": "0a124fdf-9f18-4cee-f1fc-9b9779bd17d5"
      },
      "execution_count": null,
      "outputs": [
        {
          "output_type": "execute_result",
          "data": {
            "text/plain": [
              "tensor(450.)"
            ]
          },
          "metadata": {},
          "execution_count": 32
        }
      ]
    },
    {
      "cell_type": "code",
      "source": [
        "x = torch.arange(40,30,-2)\n",
        "x"
      ],
      "metadata": {
        "colab": {
          "base_uri": "https://localhost:8080/"
        },
        "id": "L5qmCvhoaUm6",
        "outputId": "8c13e355-edb6-4f05-ccf6-a9318933a061"
      },
      "execution_count": null,
      "outputs": [
        {
          "output_type": "execute_result",
          "data": {
            "text/plain": [
              "tensor([40, 38, 36, 34, 32])"
            ]
          },
          "metadata": {},
          "execution_count": 5
        }
      ]
    },
    {
      "cell_type": "code",
      "source": [
        "x.argmin()"
      ],
      "metadata": {
        "colab": {
          "base_uri": "https://localhost:8080/"
        },
        "id": "MMqp6mDtaR_i",
        "outputId": "91d16047-e829-45ec-d02c-6d3c8e3cf522"
      },
      "execution_count": null,
      "outputs": [
        {
          "output_type": "execute_result",
          "data": {
            "text/plain": [
              "tensor(4)"
            ]
          },
          "metadata": {},
          "execution_count": 40
        }
      ]
    },
    {
      "cell_type": "code",
      "source": [
        "x[4]"
      ],
      "metadata": {
        "colab": {
          "base_uri": "https://localhost:8080/"
        },
        "id": "KeL-0nYyaka-",
        "outputId": "a8f6c1a7-f8b2-4ee2-a312-c4020431d9bc"
      },
      "execution_count": null,
      "outputs": [
        {
          "output_type": "execute_result",
          "data": {
            "text/plain": [
              "tensor(32)"
            ]
          },
          "metadata": {},
          "execution_count": 6
        }
      ]
    },
    {
      "cell_type": "code",
      "source": [
        "x.argmax()"
      ],
      "metadata": {
        "colab": {
          "base_uri": "https://localhost:8080/"
        },
        "id": "-D686APELjFK",
        "outputId": "77d00d44-36fb-412d-b09a-d0b1a186c185"
      },
      "execution_count": null,
      "outputs": [
        {
          "output_type": "execute_result",
          "data": {
            "text/plain": [
              "tensor(0)"
            ]
          },
          "metadata": {},
          "execution_count": 7
        }
      ]
    },
    {
      "cell_type": "code",
      "source": [
        "x[0]"
      ],
      "metadata": {
        "colab": {
          "base_uri": "https://localhost:8080/"
        },
        "id": "fUqlNRfkL57p",
        "outputId": "734cdb40-3f61-4db1-de23-8c5bffd75277"
      },
      "execution_count": null,
      "outputs": [
        {
          "output_type": "execute_result",
          "data": {
            "text/plain": [
              "tensor(40)"
            ]
          },
          "metadata": {},
          "execution_count": 8
        }
      ]
    },
    {
      "cell_type": "code",
      "source": [
        "x = torch.arange(1.,10.)\n",
        "x,x.shape"
      ],
      "metadata": {
        "colab": {
          "base_uri": "https://localhost:8080/"
        },
        "id": "mUOydwkjL8ch",
        "outputId": "01f7ba55-14c1-49b6-bc95-feea5cd23440"
      },
      "execution_count": null,
      "outputs": [
        {
          "output_type": "execute_result",
          "data": {
            "text/plain": [
              "(tensor([1., 2., 3., 4., 5., 6., 7., 8., 9.]), torch.Size([9]))"
            ]
          },
          "metadata": {},
          "execution_count": 2
        }
      ]
    },
    {
      "cell_type": "code",
      "source": [
        "x.reshape(3,3)"
      ],
      "metadata": {
        "colab": {
          "base_uri": "https://localhost:8080/"
        },
        "id": "AGGc9ayQOJ12",
        "outputId": "b22bdf1f-1338-4efd-e418-4d02aac14578"
      },
      "execution_count": null,
      "outputs": [
        {
          "output_type": "execute_result",
          "data": {
            "text/plain": [
              "tensor([[1., 2., 3.],\n",
              "        [4., 5., 6.],\n",
              "        [7., 8., 9.]])"
            ]
          },
          "metadata": {},
          "execution_count": 10
        }
      ]
    },
    {
      "cell_type": "code",
      "source": [
        "x.reshape(1,9)"
      ],
      "metadata": {
        "colab": {
          "base_uri": "https://localhost:8080/"
        },
        "id": "DynBYDlmOWiL",
        "outputId": "b2d2ab5b-1df3-4aec-f885-c2ea94c1b78c"
      },
      "execution_count": null,
      "outputs": [
        {
          "output_type": "execute_result",
          "data": {
            "text/plain": [
              "tensor([[1., 2., 3., 4., 5., 6., 7., 8., 9.]])"
            ]
          },
          "metadata": {},
          "execution_count": 11
        }
      ]
    },
    {
      "cell_type": "code",
      "source": [
        "x"
      ],
      "metadata": {
        "colab": {
          "base_uri": "https://localhost:8080/"
        },
        "id": "gYBoCAv6Odd0",
        "outputId": "1bc0ef0f-7e21-43e8-8a70-017247904716"
      },
      "execution_count": null,
      "outputs": [
        {
          "output_type": "execute_result",
          "data": {
            "text/plain": [
              "tensor([1., 2., 3., 4., 5., 6., 7., 8., 9.])"
            ]
          },
          "metadata": {},
          "execution_count": 12
        }
      ]
    },
    {
      "cell_type": "code",
      "source": [
        "y = x.view(3,3)\n",
        "x,y"
      ],
      "metadata": {
        "colab": {
          "base_uri": "https://localhost:8080/"
        },
        "id": "iHKdfKS3PSdC",
        "outputId": "4917710b-f282-42d2-9c66-24780d2be814"
      },
      "execution_count": null,
      "outputs": [
        {
          "output_type": "execute_result",
          "data": {
            "text/plain": [
              "(tensor([1., 2., 3., 4., 5., 6., 7., 8., 9.]),\n",
              " tensor([[1., 2., 3.],\n",
              "         [4., 5., 6.],\n",
              "         [7., 8., 9.]]))"
            ]
          },
          "metadata": {},
          "execution_count": 20
        }
      ]
    },
    {
      "cell_type": "code",
      "source": [
        "y[0] = 555\n",
        "x,y"
      ],
      "metadata": {
        "colab": {
          "base_uri": "https://localhost:8080/"
        },
        "id": "ELx9MlZYPVrN",
        "outputId": "e3513d49-f16d-4380-fd2d-f33b138d6cf5"
      },
      "execution_count": null,
      "outputs": [
        {
          "output_type": "execute_result",
          "data": {
            "text/plain": [
              "(tensor([555., 555., 555.,   4.,   5.,   6.,   7.,   8.,   9.]),\n",
              " tensor([[555., 555., 555.],\n",
              "         [  4.,   5.,   6.],\n",
              "         [  7.,   8.,   9.]]))"
            ]
          },
          "metadata": {},
          "execution_count": 21
        }
      ]
    },
    {
      "cell_type": "code",
      "source": [
        "torch.stack([x,x,x])"
      ],
      "metadata": {
        "id": "SDWRzQDPP5Zl",
        "colab": {
          "base_uri": "https://localhost:8080/"
        },
        "outputId": "07a6c20b-cec8-4530-f841-d9db8a6d38a1"
      },
      "execution_count": null,
      "outputs": [
        {
          "output_type": "execute_result",
          "data": {
            "text/plain": [
              "tensor([[1., 2., 3., 4., 5., 6., 7., 8., 9.],\n",
              "        [1., 2., 3., 4., 5., 6., 7., 8., 9.],\n",
              "        [1., 2., 3., 4., 5., 6., 7., 8., 9.]])"
            ]
          },
          "metadata": {},
          "execution_count": 3
        }
      ]
    },
    {
      "cell_type": "code",
      "source": [
        "torch.stack([x,x,x],dim=0)"
      ],
      "metadata": {
        "colab": {
          "base_uri": "https://localhost:8080/"
        },
        "id": "MiDf5c-D3I7H",
        "outputId": "33f94498-4c65-46e2-dd1f-9c5480f01d56"
      },
      "execution_count": null,
      "outputs": [
        {
          "output_type": "execute_result",
          "data": {
            "text/plain": [
              "tensor([[1., 2., 3., 4., 5., 6., 7., 8., 9.],\n",
              "        [1., 2., 3., 4., 5., 6., 7., 8., 9.],\n",
              "        [1., 2., 3., 4., 5., 6., 7., 8., 9.]])"
            ]
          },
          "metadata": {},
          "execution_count": 4
        }
      ]
    },
    {
      "cell_type": "code",
      "source": [
        "torch.stack([x,x,x],dim=1)"
      ],
      "metadata": {
        "colab": {
          "base_uri": "https://localhost:8080/"
        },
        "id": "-FiP8eHX3QyL",
        "outputId": "0038ccdc-740f-4b4c-d16c-332b2a2da5cc"
      },
      "execution_count": null,
      "outputs": [
        {
          "output_type": "execute_result",
          "data": {
            "text/plain": [
              "tensor([[1., 1., 1.],\n",
              "        [2., 2., 2.],\n",
              "        [3., 3., 3.],\n",
              "        [4., 4., 4.],\n",
              "        [5., 5., 5.],\n",
              "        [6., 6., 6.],\n",
              "        [7., 7., 7.],\n",
              "        [8., 8., 8.],\n",
              "        [9., 9., 9.]])"
            ]
          },
          "metadata": {},
          "execution_count": 5
        }
      ]
    },
    {
      "cell_type": "code",
      "source": [
        "torch.hstack([x,x,x])"
      ],
      "metadata": {
        "colab": {
          "base_uri": "https://localhost:8080/"
        },
        "id": "By85aI6v4vUL",
        "outputId": "556d0394-986f-40bd-ae3f-fe7fd9b546b8"
      },
      "execution_count": null,
      "outputs": [
        {
          "output_type": "execute_result",
          "data": {
            "text/plain": [
              "tensor([1., 2., 3., 4., 5., 6., 7., 8., 9., 1., 2., 3., 4., 5., 6., 7., 8., 9.,\n",
              "        1., 2., 3., 4., 5., 6., 7., 8., 9.])"
            ]
          },
          "metadata": {},
          "execution_count": 7
        }
      ]
    },
    {
      "cell_type": "code",
      "source": [
        "torch.vstack([x,x,x])"
      ],
      "metadata": {
        "colab": {
          "base_uri": "https://localhost:8080/"
        },
        "id": "H7_ho78d4zB4",
        "outputId": "c6880e7e-a5a3-4146-8b99-dd346586b918"
      },
      "execution_count": null,
      "outputs": [
        {
          "output_type": "execute_result",
          "data": {
            "text/plain": [
              "tensor([[1., 2., 3., 4., 5., 6., 7., 8., 9.],\n",
              "        [1., 2., 3., 4., 5., 6., 7., 8., 9.],\n",
              "        [1., 2., 3., 4., 5., 6., 7., 8., 9.]])"
            ]
          },
          "metadata": {},
          "execution_count": 8
        }
      ]
    },
    {
      "cell_type": "code",
      "source": [
        "x"
      ],
      "metadata": {
        "colab": {
          "base_uri": "https://localhost:8080/"
        },
        "id": "FOfAQgz85p9V",
        "outputId": "7069e3ef-0603-4ee2-dfc1-e55800c7b437"
      },
      "execution_count": null,
      "outputs": [
        {
          "output_type": "execute_result",
          "data": {
            "text/plain": [
              "tensor([1., 2., 3., 4., 5., 6., 7., 8., 9.])"
            ]
          },
          "metadata": {},
          "execution_count": 10
        }
      ]
    },
    {
      "cell_type": "code",
      "source": [
        "torch.squeeze(x)"
      ],
      "metadata": {
        "colab": {
          "base_uri": "https://localhost:8080/"
        },
        "id": "u7XekQXv468Y",
        "outputId": "ba3ab049-466d-413b-a1f6-b87e6a03f867"
      },
      "execution_count": null,
      "outputs": [
        {
          "output_type": "execute_result",
          "data": {
            "text/plain": [
              "tensor([1., 2., 3., 4., 5., 6., 7., 8., 9.])"
            ]
          },
          "metadata": {},
          "execution_count": 9
        }
      ]
    },
    {
      "cell_type": "code",
      "source": [
        "x.shape"
      ],
      "metadata": {
        "colab": {
          "base_uri": "https://localhost:8080/"
        },
        "id": "GvqYWdZt5o3c",
        "outputId": "7d9c5d1d-f6b0-499e-9113-611d2f7d16d1"
      },
      "execution_count": null,
      "outputs": [
        {
          "output_type": "execute_result",
          "data": {
            "text/plain": [
              "torch.Size([9])"
            ]
          },
          "metadata": {},
          "execution_count": 11
        }
      ]
    },
    {
      "cell_type": "code",
      "source": [
        "x = torch.rand(1,9)\n",
        "x, x.shape"
      ],
      "metadata": {
        "colab": {
          "base_uri": "https://localhost:8080/"
        },
        "id": "WBurDinv6Kas",
        "outputId": "adbc4b65-9eb3-4261-a9af-0140e0b76b96"
      },
      "execution_count": null,
      "outputs": [
        {
          "output_type": "execute_result",
          "data": {
            "text/plain": [
              "(tensor([[0.4260, 0.6906, 0.0275, 0.7027, 0.1702, 0.1887, 0.4972, 0.9652, 0.1765]]),\n",
              " torch.Size([1, 9]))"
            ]
          },
          "metadata": {},
          "execution_count": 3
        }
      ]
    },
    {
      "cell_type": "code",
      "source": [
        "x.squeeze().shape"
      ],
      "metadata": {
        "colab": {
          "base_uri": "https://localhost:8080/"
        },
        "id": "UdEYF8mn6cPk",
        "outputId": "fc0b2eb3-698b-4ba3-ee5d-b75b9b74004a"
      },
      "execution_count": null,
      "outputs": [
        {
          "output_type": "execute_result",
          "data": {
            "text/plain": [
              "torch.Size([9])"
            ]
          },
          "metadata": {},
          "execution_count": 20
        }
      ]
    },
    {
      "cell_type": "code",
      "source": [
        "x.unsqueeze(dim=0).shape"
      ],
      "metadata": {
        "colab": {
          "base_uri": "https://localhost:8080/"
        },
        "id": "fGdlXWM56hxi",
        "outputId": "16ee805a-fb82-418c-90b0-8977f9be1167"
      },
      "execution_count": null,
      "outputs": [
        {
          "output_type": "execute_result",
          "data": {
            "text/plain": [
              "torch.Size([1, 1, 9])"
            ]
          },
          "metadata": {},
          "execution_count": 26
        }
      ]
    },
    {
      "cell_type": "code",
      "source": [
        "x.unsqueeze(dim=1).shape"
      ],
      "metadata": {
        "colab": {
          "base_uri": "https://localhost:8080/"
        },
        "id": "r568Awbt_yK1",
        "outputId": "53b31105-83a0-4594-ed7b-babc890de758"
      },
      "execution_count": null,
      "outputs": [
        {
          "output_type": "execute_result",
          "data": {
            "text/plain": [
              "torch.Size([1, 1, 9])"
            ]
          },
          "metadata": {},
          "execution_count": 4
        }
      ]
    },
    {
      "cell_type": "code",
      "source": [
        "torch.eye(5)"
      ],
      "metadata": {
        "colab": {
          "base_uri": "https://localhost:8080/"
        },
        "id": "P9T4Ig4N_-3W",
        "outputId": "47e7c2c2-ee96-4f1a-f50c-81e48f130fb6"
      },
      "execution_count": null,
      "outputs": [
        {
          "output_type": "execute_result",
          "data": {
            "text/plain": [
              "tensor([[1., 0., 0., 0., 0.],\n",
              "        [0., 1., 0., 0., 0.],\n",
              "        [0., 0., 1., 0., 0.],\n",
              "        [0., 0., 0., 1., 0.],\n",
              "        [0., 0., 0., 0., 1.]])"
            ]
          },
          "metadata": {},
          "execution_count": 5
        }
      ]
    },
    {
      "cell_type": "code",
      "source": [
        "!ps anx"
      ],
      "metadata": {
        "colab": {
          "base_uri": "https://localhost:8080/"
        },
        "id": "r1XuusCLATPi",
        "outputId": "d2afff97-ee86-4373-d566-f6cc37f5281a"
      },
      "execution_count": null,
      "outputs": [
        {
          "output_type": "stream",
          "name": "stdout",
          "text": [
            "    PID TTY      STAT   TIME COMMAND\n",
            "      1 ?        Ss     0:00 /sbin/docker-init -- /datalab/run.sh\n",
            "      7 ?        Sl     0:01 /tools/node/bin/node /datalab/web/app.js\n",
            "     19 ?        Ss     0:00 tail -n +0 -F /root/.config/Google/DriveFS/Logs/dpb\n",
            "     30 ?        S      0:00 /bin/bash -e /usr/local/colab/bin/oom_monitor.sh\n",
            "     32 ?        S      0:00 /bin/bash -e /datalab/run.sh\n",
            "     35 ?        Sl     0:00 /usr/colab/bin/kernel_manager_proxy --listen_port=6\n",
            "     61 ?        Z      0:07 [python3] <defunct>\n",
            "     62 ?        S      0:00 python3 /usr/local/bin/colab-fileshim.py\n",
            "     83 ?        Sl     0:04 /usr/bin/python3 /usr/local/bin/jupyter-notebook --\n",
            "     84 ?        Sl     0:00 /usr/local/bin/dap_multiplexer --domain_socket_path\n",
            "    397 ?        Ssl    0:08 /usr/bin/python3 -m ipykernel_launcher -f /root/.lo\n",
            "    432 ?        Sl     0:00 /usr/bin/python3 /usr/local/lib/python3.10/dist-pac\n",
            "    461 ?        Sl     0:00 /usr/colab/bin/language_service --language_services\n",
            "    467 ?        Sl     0:17 node /datalab/web/pyright/pyright-langserver.js --s\n",
            "   1039 ?        S      0:00 sleep 1\n",
            "   1040 ?        R      0:00 ps anx\n"
          ]
        }
      ]
    },
    {
      "cell_type": "code",
      "source": [
        "x = torch.randn(2,3,5)"
      ],
      "metadata": {
        "id": "22QmfjQpAYsH"
      },
      "execution_count": null,
      "outputs": []
    },
    {
      "cell_type": "code",
      "source": [
        "plt.hist(x.flatten())\n",
        "plt.show()"
      ],
      "metadata": {
        "colab": {
          "base_uri": "https://localhost:8080/",
          "height": 430
        },
        "id": "y9O0dd89UhPf",
        "outputId": "ea1bd1d8-6a34-4d86-8384-bc15323920bd"
      },
      "execution_count": null,
      "outputs": [
        {
          "output_type": "display_data",
          "data": {
            "text/plain": [
              "<Figure size 640x480 with 1 Axes>"
            ],
            "image/png": "[encoded data removed]"
          },
          "metadata": {}
        }
      ]
    },
    {
      "cell_type": "code",
      "source": [
        "x, x.shape"
      ],
      "metadata": {
        "colab": {
          "base_uri": "https://localhost:8080/"
        },
        "id": "MRWTzDFkVXvV",
        "outputId": "6bd337b7-a25d-4222-9203-b649ff11eeea"
      },
      "execution_count": null,
      "outputs": [
        {
          "output_type": "execute_result",
          "data": {
            "text/plain": [
              "(tensor([[[-0.8546, -0.2225, -0.5969,  1.0068,  0.5850],\n",
              "          [-0.2854,  1.0915,  0.1693,  0.9593,  0.6423],\n",
              "          [-1.2911,  0.7814,  0.6436,  0.7152, -2.2983]],\n",
              " \n",
              "         [[-1.3063, -0.7324,  0.4800,  0.4307,  0.8470],\n",
              "          [ 1.0679, -0.5462,  0.0221,  0.5885,  0.4148],\n",
              "          [-0.2112,  0.0853,  0.2409, -0.0109,  1.0121]]]),\n",
              " torch.Size([2, 3, 5]))"
            ]
          },
          "metadata": {},
          "execution_count": 7
        }
      ]
    },
    {
      "cell_type": "code",
      "source": [
        "x.permute(2,0,1).shape, x.shape"
      ],
      "metadata": {
        "colab": {
          "base_uri": "https://localhost:8080/"
        },
        "id": "VVobTibXU7tn",
        "outputId": "636e4de3-6803-4013-d2b8-b9e940e4a848"
      },
      "execution_count": null,
      "outputs": [
        {
          "output_type": "execute_result",
          "data": {
            "text/plain": [
              "(torch.Size([5, 2, 3]), torch.Size([2, 3, 5]))"
            ]
          },
          "metadata": {},
          "execution_count": 8
        }
      ]
    },
    {
      "cell_type": "code",
      "source": [
        "x1 = x.permute(2,0,1)\n",
        "x,x1"
      ],
      "metadata": {
        "colab": {
          "base_uri": "https://localhost:8080/"
        },
        "id": "yGQZX27EtR4g",
        "outputId": "25c4e1e5-b65b-4ea3-c2ec-0b96722c3053"
      },
      "execution_count": null,
      "outputs": [
        {
          "output_type": "execute_result",
          "data": {
            "text/plain": [
              "(tensor([[[-0.8546, -0.2225, -0.5969,  1.0068,  0.5850],\n",
              "          [-0.2854,  1.0915,  0.1693,  0.9593,  0.6423],\n",
              "          [-1.2911,  0.7814,  0.6436,  0.7152, -2.2983]],\n",
              " \n",
              "         [[-1.3063, -0.7324,  0.4800,  0.4307,  0.8470],\n",
              "          [ 1.0679, -0.5462,  0.0221,  0.5885,  0.4148],\n",
              "          [-0.2112,  0.0853,  0.2409, -0.0109,  1.0121]]]),\n",
              " tensor([[[-0.8546, -0.2854, -1.2911],\n",
              "          [-1.3063,  1.0679, -0.2112]],\n",
              " \n",
              "         [[-0.2225,  1.0915,  0.7814],\n",
              "          [-0.7324, -0.5462,  0.0853]],\n",
              " \n",
              "         [[-0.5969,  0.1693,  0.6436],\n",
              "          [ 0.4800,  0.0221,  0.2409]],\n",
              " \n",
              "         [[ 1.0068,  0.9593,  0.7152],\n",
              "          [ 0.4307,  0.5885, -0.0109]],\n",
              " \n",
              "         [[ 0.5850,  0.6423, -2.2983],\n",
              "          [ 0.8470,  0.4148,  1.0121]]]))"
            ]
          },
          "metadata": {},
          "execution_count": 9
        }
      ]
    },
    {
      "cell_type": "code",
      "source": [
        "x.shape,x1.shape"
      ],
      "metadata": {
        "colab": {
          "base_uri": "https://localhost:8080/"
        },
        "id": "cuY6r91JtexZ",
        "outputId": "ce31a207-49cb-40b6-bf0e-a518055a885e"
      },
      "execution_count": null,
      "outputs": [
        {
          "output_type": "execute_result",
          "data": {
            "text/plain": [
              "(torch.Size([2, 3, 5]), torch.Size([5, 2, 3]))"
            ]
          },
          "metadata": {},
          "execution_count": 10
        }
      ]
    },
    {
      "cell_type": "code",
      "source": [
        "x[0,0,0] = 5\n",
        "x,x1"
      ],
      "metadata": {
        "colab": {
          "base_uri": "https://localhost:8080/"
        },
        "id": "p-VQF8aVtkd9",
        "outputId": "fffab938-63ce-4ca1-f11d-b84da9c19af8"
      },
      "execution_count": null,
      "outputs": [
        {
          "output_type": "execute_result",
          "data": {
            "text/plain": [
              "(tensor([[[ 5.0000, -0.2225, -0.5969,  1.0068,  0.5850],\n",
              "          [-0.2854,  1.0915,  0.1693,  0.9593,  0.6423],\n",
              "          [-1.2911,  0.7814,  0.6436,  0.7152, -2.2983]],\n",
              " \n",
              "         [[-1.3063, -0.7324,  0.4800,  0.4307,  0.8470],\n",
              "          [ 1.0679, -0.5462,  0.0221,  0.5885,  0.4148],\n",
              "          [-0.2112,  0.0853,  0.2409, -0.0109,  1.0121]]]),\n",
              " tensor([[[ 5.0000, -0.2854, -1.2911],\n",
              "          [-1.3063,  1.0679, -0.2112]],\n",
              " \n",
              "         [[-0.2225,  1.0915,  0.7814],\n",
              "          [-0.7324, -0.5462,  0.0853]],\n",
              " \n",
              "         [[-0.5969,  0.1693,  0.6436],\n",
              "          [ 0.4800,  0.0221,  0.2409]],\n",
              " \n",
              "         [[ 1.0068,  0.9593,  0.7152],\n",
              "          [ 0.4307,  0.5885, -0.0109]],\n",
              " \n",
              "         [[ 0.5850,  0.6423, -2.2983],\n",
              "          [ 0.8470,  0.4148,  1.0121]]]))"
            ]
          },
          "metadata": {},
          "execution_count": 11
        }
      ]
    },
    {
      "cell_type": "code",
      "source": [
        "x = torch.rand(10,10)\n",
        "x1 = x.view(-1)\n",
        "x,x1"
      ],
      "metadata": {
        "colab": {
          "base_uri": "https://localhost:8080/"
        },
        "id": "W5HXbZlMwG1P",
        "outputId": "139c0014-0616-4faa-af92-3f42e9f61512"
      },
      "execution_count": null,
      "outputs": [
        {
          "output_type": "execute_result",
          "data": {
            "text/plain": [
              "(tensor([[0.8610, 0.3354, 0.3154, 0.3011, 0.6890, 0.3190, 0.4057, 0.1796, 0.7513,\n",
              "          0.8509],\n",
              "         [0.9254, 0.6193, 0.0760, 0.3264, 0.4794, 0.2576, 0.2646, 0.7223, 0.9957,\n",
              "          0.5527],\n",
              "         [0.4801, 0.8783, 0.2594, 0.5928, 0.6625, 0.0801, 0.3219, 0.8755, 0.0618,\n",
              "          0.4687],\n",
              "         [0.5341, 0.4689, 0.7226, 0.8914, 0.0095, 0.0047, 0.0077, 0.6692, 0.8463,\n",
              "          0.1018],\n",
              "         [0.7362, 0.7196, 0.8502, 0.7538, 0.5980, 0.5661, 0.7536, 0.6375, 0.3559,\n",
              "          0.6679],\n",
              "         [0.0630, 0.3199, 0.9665, 0.6706, 0.3874, 0.7149, 0.7866, 0.3076, 0.3496,\n",
              "          0.3667],\n",
              "         [0.1816, 0.6095, 0.2791, 0.0880, 0.9668, 0.1895, 0.4974, 0.8700, 0.6004,\n",
              "          0.7227],\n",
              "         [0.1860, 0.1842, 0.2039, 0.5416, 0.3854, 0.0386, 0.4743, 0.9648, 0.0445,\n",
              "          0.7720],\n",
              "         [0.0301, 0.1261, 0.3831, 0.0533, 0.2792, 0.1382, 0.2643, 0.6317, 0.8225,\n",
              "          0.4398],\n",
              "         [0.4535, 0.0662, 0.0430, 0.2855, 0.8012, 0.1955, 0.2750, 0.9552, 0.3691,\n",
              "          0.4657]]),\n",
              " tensor([0.8610, 0.3354, 0.3154, 0.3011, 0.6890, 0.3190, 0.4057, 0.1796, 0.7513,\n",
              "         0.8509, 0.9254, 0.6193, 0.0760, 0.3264, 0.4794, 0.2576, 0.2646, 0.7223,\n",
              "         0.9957, 0.5527, 0.4801, 0.8783, 0.2594, 0.5928, 0.6625, 0.0801, 0.3219,\n",
              "         0.8755, 0.0618, 0.4687, 0.5341, 0.4689, 0.7226, 0.8914, 0.0095, 0.0047,\n",
              "         0.0077, 0.6692, 0.8463, 0.1018, 0.7362, 0.7196, 0.8502, 0.7538, 0.5980,\n",
              "         0.5661, 0.7536, 0.6375, 0.3559, 0.6679, 0.0630, 0.3199, 0.9665, 0.6706,\n",
              "         0.3874, 0.7149, 0.7866, 0.3076, 0.3496, 0.3667, 0.1816, 0.6095, 0.2791,\n",
              "         0.0880, 0.9668, 0.1895, 0.4974, 0.8700, 0.6004, 0.7227, 0.1860, 0.1842,\n",
              "         0.2039, 0.5416, 0.3854, 0.0386, 0.4743, 0.9648, 0.0445, 0.7720, 0.0301,\n",
              "         0.1261, 0.3831, 0.0533, 0.2792, 0.1382, 0.2643, 0.6317, 0.8225, 0.4398,\n",
              "         0.4535, 0.0662, 0.0430, 0.2855, 0.8012, 0.1955, 0.2750, 0.9552, 0.3691,\n",
              "         0.4657]))"
            ]
          },
          "metadata": {},
          "execution_count": 13
        }
      ]
    },
    {
      "cell_type": "code",
      "source": [
        "x[0,0] = 5\n",
        "x,x1"
      ],
      "metadata": {
        "colab": {
          "base_uri": "https://localhost:8080/"
        },
        "id": "dia5WEOSwf98",
        "outputId": "67326ea6-98d0-4e1f-ed09-44d3926261cb"
      },
      "execution_count": null,
      "outputs": [
        {
          "output_type": "execute_result",
          "data": {
            "text/plain": [
              "(tensor([[5.0000e+00, 3.3539e-01, 3.1536e-01, 3.0108e-01, 6.8895e-01, 3.1896e-01,\n",
              "          4.0573e-01, 1.7955e-01, 7.5126e-01, 8.5087e-01],\n",
              "         [9.2542e-01, 6.1926e-01, 7.5969e-02, 3.2639e-01, 4.7945e-01, 2.5757e-01,\n",
              "          2.6463e-01, 7.2231e-01, 9.9565e-01, 5.5274e-01],\n",
              "         [4.8009e-01, 8.7827e-01, 2.5943e-01, 5.9276e-01, 6.6250e-01, 8.0095e-02,\n",
              "          3.2190e-01, 8.7550e-01, 6.1765e-02, 4.6869e-01],\n",
              "         [5.3408e-01, 4.6893e-01, 7.2262e-01, 8.9141e-01, 9.5417e-03, 4.6732e-03,\n",
              "          7.7191e-03, 6.6925e-01, 8.4629e-01, 1.0185e-01],\n",
              "         [7.3623e-01, 7.1963e-01, 8.5019e-01, 7.5378e-01, 5.9803e-01, 5.6609e-01,\n",
              "          7.5362e-01, 6.3751e-01, 3.5586e-01, 6.6788e-01],\n",
              "         [6.3029e-02, 3.1986e-01, 9.6648e-01, 6.7064e-01, 3.8738e-01, 7.1490e-01,\n",
              "          7.8660e-01, 3.0757e-01, 3.4965e-01, 3.6670e-01],\n",
              "         [1.8159e-01, 6.0948e-01, 2.7914e-01, 8.7983e-02, 9.6682e-01, 1.8955e-01,\n",
              "          4.9737e-01, 8.7002e-01, 6.0040e-01, 7.2267e-01],\n",
              "         [1.8595e-01, 1.8416e-01, 2.0393e-01, 5.4158e-01, 3.8542e-01, 3.8611e-02,\n",
              "          4.7432e-01, 9.6478e-01, 4.4460e-02, 7.7198e-01],\n",
              "         [3.0091e-02, 1.2613e-01, 3.8313e-01, 5.3311e-02, 2.7920e-01, 1.3818e-01,\n",
              "          2.6431e-01, 6.3172e-01, 8.2251e-01, 4.3985e-01],\n",
              "         [4.5352e-01, 6.6237e-02, 4.2978e-02, 2.8549e-01, 8.0124e-01, 1.9548e-01,\n",
              "          2.7502e-01, 9.5519e-01, 3.6906e-01, 4.6570e-01]]),\n",
              " tensor([5.0000e+00, 3.3539e-01, 3.1536e-01, 3.0108e-01, 6.8895e-01, 3.1896e-01,\n",
              "         4.0573e-01, 1.7955e-01, 7.5126e-01, 8.5087e-01, 9.2542e-01, 6.1926e-01,\n",
              "         7.5969e-02, 3.2639e-01, 4.7945e-01, 2.5757e-01, 2.6463e-01, 7.2231e-01,\n",
              "         9.9565e-01, 5.5274e-01, 4.8009e-01, 8.7827e-01, 2.5943e-01, 5.9276e-01,\n",
              "         6.6250e-01, 8.0095e-02, 3.2190e-01, 8.7550e-01, 6.1765e-02, 4.6869e-01,\n",
              "         5.3408e-01, 4.6893e-01, 7.2262e-01, 8.9141e-01, 9.5417e-03, 4.6732e-03,\n",
              "         7.7191e-03, 6.6925e-01, 8.4629e-01, 1.0185e-01, 7.3623e-01, 7.1963e-01,\n",
              "         8.5019e-01, 7.5378e-01, 5.9803e-01, 5.6609e-01, 7.5362e-01, 6.3751e-01,\n",
              "         3.5586e-01, 6.6788e-01, 6.3029e-02, 3.1986e-01, 9.6648e-01, 6.7064e-01,\n",
              "         3.8738e-01, 7.1490e-01, 7.8660e-01, 3.0757e-01, 3.4965e-01, 3.6670e-01,\n",
              "         1.8159e-01, 6.0948e-01, 2.7914e-01, 8.7983e-02, 9.6682e-01, 1.8955e-01,\n",
              "         4.9737e-01, 8.7002e-01, 6.0040e-01, 7.2267e-01, 1.8595e-01, 1.8416e-01,\n",
              "         2.0393e-01, 5.4158e-01, 3.8542e-01, 3.8611e-02, 4.7432e-01, 9.6478e-01,\n",
              "         4.4460e-02, 7.7198e-01, 3.0091e-02, 1.2613e-01, 3.8313e-01, 5.3311e-02,\n",
              "         2.7920e-01, 1.3818e-01, 2.6431e-01, 6.3172e-01, 8.2251e-01, 4.3985e-01,\n",
              "         4.5352e-01, 6.6237e-02, 4.2978e-02, 2.8549e-01, 8.0124e-01, 1.9548e-01,\n",
              "         2.7502e-01, 9.5519e-01, 3.6906e-01, 4.6570e-01]))"
            ]
          },
          "metadata": {},
          "execution_count": 14
        }
      ]
    },
    {
      "cell_type": "code",
      "source": [
        "x = torch.rand(1,3,3)"
      ],
      "metadata": {
        "id": "cg-IjoBawlCS"
      },
      "execution_count": null,
      "outputs": []
    },
    {
      "cell_type": "code",
      "source": [
        "x,x.shape"
      ],
      "metadata": {
        "colab": {
          "base_uri": "https://localhost:8080/"
        },
        "id": "xsea95xPJTqo",
        "outputId": "70334881-e801-47ba-ddd5-2899210a710c"
      },
      "execution_count": null,
      "outputs": [
        {
          "output_type": "execute_result",
          "data": {
            "text/plain": [
              "(tensor([[[0.8013, 0.3680, 0.3933],\n",
              "          [0.2414, 0.8686, 0.9411],\n",
              "          [0.6121, 0.5361, 0.5656]]]),\n",
              " torch.Size([1, 3, 3]))"
            ]
          },
          "metadata": {},
          "execution_count": 18
        }
      ]
    },
    {
      "cell_type": "code",
      "source": [
        "x[0]"
      ],
      "metadata": {
        "colab": {
          "base_uri": "https://localhost:8080/"
        },
        "id": "QHYi0OMZJWn7",
        "outputId": "d7b47da6-f7e5-4322-84f7-3b8a3071b422"
      },
      "execution_count": null,
      "outputs": [
        {
          "output_type": "execute_result",
          "data": {
            "text/plain": [
              "tensor([[0.8013, 0.3680, 0.3933],\n",
              "        [0.2414, 0.8686, 0.9411],\n",
              "        [0.6121, 0.5361, 0.5656]])"
            ]
          },
          "metadata": {},
          "execution_count": 19
        }
      ]
    },
    {
      "cell_type": "code",
      "source": [
        "x[0,0]"
      ],
      "metadata": {
        "colab": {
          "base_uri": "https://localhost:8080/"
        },
        "id": "xcykIV--JZEk",
        "outputId": "e826e33b-b4fc-4fd6-dcf7-e7e0d139a4d4"
      },
      "execution_count": null,
      "outputs": [
        {
          "output_type": "execute_result",
          "data": {
            "text/plain": [
              "tensor([0.8013, 0.3680, 0.3933])"
            ]
          },
          "metadata": {},
          "execution_count": 20
        }
      ]
    },
    {
      "cell_type": "code",
      "source": [
        "x[0,0,0]"
      ],
      "metadata": {
        "colab": {
          "base_uri": "https://localhost:8080/"
        },
        "id": "xnd1XLJcJbtD",
        "outputId": "81d6e7db-c370-4f1c-c2bc-11d0380fedf5"
      },
      "execution_count": null,
      "outputs": [
        {
          "output_type": "execute_result",
          "data": {
            "text/plain": [
              "tensor(0.8013)"
            ]
          },
          "metadata": {},
          "execution_count": 21
        }
      ]
    },
    {
      "cell_type": "code",
      "source": [
        "x[:,:,1]"
      ],
      "metadata": {
        "colab": {
          "base_uri": "https://localhost:8080/"
        },
        "id": "PhfFrnqoJ6Fm",
        "outputId": "c81da3b9-94d2-4525-8a93-3bb9338d3750"
      },
      "execution_count": null,
      "outputs": [
        {
          "output_type": "execute_result",
          "data": {
            "text/plain": [
              "tensor([[0.3680, 0.8686, 0.5361]])"
            ]
          },
          "metadata": {},
          "execution_count": 23
        }
      ]
    },
    {
      "cell_type": "code",
      "source": [
        "x[0,1,1],x[:,1,1]"
      ],
      "metadata": {
        "colab": {
          "base_uri": "https://localhost:8080/"
        },
        "id": "cKHauty2Kboz",
        "outputId": "f5b02c6f-a1d3-42ef-def5-d176e6cb10a6"
      },
      "execution_count": null,
      "outputs": [
        {
          "output_type": "execute_result",
          "data": {
            "text/plain": [
              "(tensor(0.8686), tensor([0.8686]))"
            ]
          },
          "metadata": {},
          "execution_count": 24
        }
      ]
    },
    {
      "cell_type": "code",
      "source": [
        "import numpy as np\n",
        "import torch"
      ],
      "metadata": {
        "id": "-naAx7rrKw0K"
      },
      "execution_count": null,
      "outputs": []
    },
    {
      "cell_type": "code",
      "source": [
        "n1 = np.arange(1,8)\n",
        "t1 = torch.from_numpy(n1)"
      ],
      "metadata": {
        "id": "N5izY2v_L5jp"
      },
      "execution_count": null,
      "outputs": []
    },
    {
      "cell_type": "code",
      "source": [
        "n1,t1"
      ],
      "metadata": {
        "colab": {
          "base_uri": "https://localhost:8080/"
        },
        "id": "P27kKydUMKKn",
        "outputId": "6b980c91-1dc0-4143-d93d-6ff86a21ae3a"
      },
      "execution_count": null,
      "outputs": [
        {
          "output_type": "execute_result",
          "data": {
            "text/plain": [
              "(array([1, 2, 3, 4, 5, 6, 7]), tensor([1, 2, 3, 4, 5, 6, 7]))"
            ]
          },
          "metadata": {},
          "execution_count": 5
        }
      ]
    },
    {
      "cell_type": "code",
      "source": [
        "n1.dtype,t1.dtype"
      ],
      "metadata": {
        "colab": {
          "base_uri": "https://localhost:8080/"
        },
        "id": "UKI0x_ikMMpl",
        "outputId": "bb47ba84-8f24-48b3-c20c-544e01a0fe3a"
      },
      "execution_count": null,
      "outputs": [
        {
          "output_type": "execute_result",
          "data": {
            "text/plain": [
              "(dtype('int64'), torch.int64)"
            ]
          },
          "metadata": {},
          "execution_count": 6
        }
      ]
    },
    {
      "cell_type": "code",
      "source": [
        "n2 = t1.numpy()\n",
        "t1,n2"
      ],
      "metadata": {
        "colab": {
          "base_uri": "https://localhost:8080/"
        },
        "id": "SMB-8K8dMSW-",
        "outputId": "294a2158-ae6b-449b-ee8d-5cd1ed05c4ac"
      },
      "execution_count": null,
      "outputs": [
        {
          "output_type": "execute_result",
          "data": {
            "text/plain": [
              "(tensor([1, 2, 3, 4, 5, 6, 7]), array([1, 2, 3, 4, 5, 6, 7]))"
            ]
          },
          "metadata": {},
          "execution_count": 7
        }
      ]
    },
    {
      "cell_type": "code",
      "source": [
        "t1.dtype,n2.dtype"
      ],
      "metadata": {
        "id": "6s4joPE-NWLw",
        "outputId": "89730f21-fa63-4c3c-cddc-1d6f7582d60b",
        "colab": {
          "base_uri": "https://localhost:8080/"
        }
      },
      "execution_count": null,
      "outputs": [
        {
          "output_type": "execute_result",
          "data": {
            "text/plain": [
              "(torch.int64, dtype('int64'))"
            ]
          },
          "metadata": {},
          "execution_count": 8
        }
      ]
    },
    {
      "cell_type": "code",
      "source": [
        "import torch"
      ],
      "metadata": {
        "id": "GhSpCG45WFYq"
      },
      "execution_count": null,
      "outputs": []
    },
    {
      "cell_type": "code",
      "source": [
        "torch.cuda.is_available()"
      ],
      "metadata": {
        "colab": {
          "base_uri": "https://localhost:8080/"
        },
        "id": "jCJlAOOzm3Ib",
        "outputId": "40c47759-d376-4ce7-ae9a-dfcefb343c1c"
      },
      "execution_count": null,
      "outputs": [
        {
          "output_type": "execute_result",
          "data": {
            "text/plain": [
              "True"
            ]
          },
          "metadata": {},
          "execution_count": 2
        }
      ]
    },
    {
      "cell_type": "code",
      "source": [
        "device = 'cuda' if torch.cuda.is_available() else 'cpu'\n",
        "device"
      ],
      "metadata": {
        "colab": {
          "base_uri": "https://localhost:8080/",
          "height": 35
        },
        "id": "3K5UDCkDnGd2",
        "outputId": "9da2e02b-0327-4fec-a61c-8a3840d2853a"
      },
      "execution_count": null,
      "outputs": [
        {
          "output_type": "execute_result",
          "data": {
            "text/plain": [
              "'cuda'"
            ],
            "application/vnd.google.colaboratory.intrinsic+json": {
              "type": "string"
            }
          },
          "metadata": {},
          "execution_count": 3
        }
      ]
    },
    {
      "cell_type": "code",
      "source": [
        "torch.cuda.device_count()"
      ],
      "metadata": {
        "colab": {
          "base_uri": "https://localhost:8080/"
        },
        "id": "zNCPgrDXnSzB",
        "outputId": "33199086-9a86-440f-d8cf-ee9fea538bf5"
      },
      "execution_count": null,
      "outputs": [
        {
          "output_type": "execute_result",
          "data": {
            "text/plain": [
              "1"
            ]
          },
          "metadata": {},
          "execution_count": 4
        }
      ]
    },
    {
      "cell_type": "code",
      "source": [
        "torch.manual_seed(11)\n",
        "t1 = torch.rand(3,4)\n",
        "\n",
        "torch.manual_seed(11)\n",
        "t2 = torch.rand(3,4)\n",
        "\n",
        "t1 == t2"
      ],
      "metadata": {
        "colab": {
          "base_uri": "https://localhost:8080/"
        },
        "id": "UEyyDnyWXtol",
        "outputId": "cb0e52b8-08de-4b30-811c-d40388baeb26"
      },
      "execution_count": null,
      "outputs": [
        {
          "output_type": "execute_result",
          "data": {
            "text/plain": [
              "tensor([[True, True, True, True],\n",
              "        [True, True, True, True],\n",
              "        [True, True, True, True]])"
            ]
          },
          "metadata": {},
          "execution_count": 2
        }
      ]
    },
    {
      "cell_type": "code",
      "source": [
        "t1 = torch.tensor([1,2,3], device=device)\n",
        "t1.device"
      ],
      "metadata": {
        "id": "VD9vWV0NYhJG",
        "colab": {
          "base_uri": "https://localhost:8080/"
        },
        "outputId": "4a7dd559-3e05-415d-c8c3-4d2ceb42c071"
      },
      "execution_count": null,
      "outputs": [
        {
          "output_type": "execute_result",
          "data": {
            "text/plain": [
              "device(type='cuda', index=0)"
            ]
          },
          "metadata": {},
          "execution_count": 5
        }
      ]
    },
    {
      "cell_type": "code",
      "source": [
        "import numpy as np"
      ],
      "metadata": {
        "id": "CwYvckH7pcSB"
      },
      "execution_count": null,
      "outputs": []
    },
    {
      "cell_type": "code",
      "source": [
        "t1.numpy()"
      ],
      "metadata": {
        "colab": {
          "base_uri": "https://localhost:8080/",
          "height": 184
        },
        "id": "5RtPfwI-p98q",
        "outputId": "08a2feca-db6c-4458-9cca-7f704127f2c0"
      },
      "execution_count": null,
      "outputs": [
        {
          "output_type": "error",
          "ename": "TypeError",
          "evalue": "ignored",
          "traceback": [
            "\u001b[0;31m---------------------------------------------------------------------------\u001b[0m",
            "\u001b[0;31mTypeError\u001b[0m                                 Traceback (most recent call last)",
            "\u001b[0;32m<ipython-input-7-2c1e18d85635>\u001b[0m in \u001b[0;36m<cell line: 1>\u001b[0;34m()\u001b[0m\n\u001b[0;32m----> 1\u001b[0;31m \u001b[0mt1\u001b[0m\u001b[0;34m.\u001b[0m\u001b[0mnumpy\u001b[0m\u001b[0;34m(\u001b[0m\u001b[0;34m)\u001b[0m\u001b[0;34m\u001b[0m\u001b[0;34m\u001b[0m\u001b[0m\n\u001b[0m",
            "\u001b[0;31mTypeError\u001b[0m: can't convert cuda:0 device type tensor to numpy. Use Tensor.cpu() to copy the tensor to host memory first."
          ]
        }
      ]
    },
    {
      "cell_type": "code",
      "source": [
        "t1 = t1.cpu().numpy()"
      ],
      "metadata": {
        "id": "9-70g35VqCP6"
      },
      "execution_count": null,
      "outputs": []
    },
    {
      "cell_type": "code",
      "source": [
        "t1"
      ],
      "metadata": {
        "colab": {
          "base_uri": "https://localhost:8080/"
        },
        "id": "8v69BbVuqLBf",
        "outputId": "a610c82d-d013-4601-b9b6-158aeb19e618"
      },
      "execution_count": null,
      "outputs": [
        {
          "output_type": "execute_result",
          "data": {
            "text/plain": [
              "array([1, 2, 3])"
            ]
          },
          "metadata": {},
          "execution_count": 12
        }
      ]
    },
    {
      "cell_type": "code",
      "source": [
        "!nvidia-smi"
      ],
      "metadata": {
        "colab": {
          "base_uri": "https://localhost:8080/"
        },
        "id": "fh5zGd6bqIJq",
        "outputId": "c4bfe9ca-93b4-4a68-bef3-a5c479ad60d4"
      },
      "execution_count": null,
      "outputs": [
        {
          "output_type": "stream",
          "name": "stdout",
          "text": [
            "Mon Jul 24 06:50:06 2023       \n",
            "+-----------------------------------------------------------------------------+\n",
            "| NVIDIA-SMI 525.105.17   Driver Version: 525.105.17   CUDA Version: 12.0     |\n",
            "|-------------------------------+----------------------+----------------------+\n",
            "| GPU  Name        Persistence-M| Bus-Id        Disp.A | Volatile Uncorr. ECC |\n",
            "| Fan  Temp  Perf  Pwr:Usage/Cap|         Memory-Usage | GPU-Util  Compute M. |\n",
            "|                               |                      |               MIG M. |\n",
            "|===============================+======================+======================|\n",
            "|   0  Tesla T4            Off  | 00000000:00:04.0 Off |                    0 |\n",
            "| N/A   56C    P0    28W /  70W |    601MiB / 15360MiB |      0%      Default |\n",
            "|                               |                      |                  N/A |\n",
            "+-------------------------------+----------------------+----------------------+\n",
            "                                                                               \n",
            "+-----------------------------------------------------------------------------+\n",
            "| Processes:                                                                  |\n",
            "|  GPU   GI   CI        PID   Type   Process name                  GPU Memory |\n",
            "|        ID   ID                                                   Usage      |\n",
            "|=============================================================================|\n",
            "+-----------------------------------------------------------------------------+\n"
          ]
        }
      ]
    },
    {
      "cell_type": "markdown",
      "source": [
        "#### PT workflow\n",
        "prep data -> build/pick pretrained model -> pick a loss func & optimizer -> build training loop -> fit model to data and make prediction -> evaluate model -> improve through experimentation -> save and reload trained model"
      ],
      "metadata": {
        "id": "IwoEf91v3W2s"
      }
    },
    {
      "cell_type": "code",
      "source": [
        "import torch\n",
        "import torch.nn as nn\n",
        "import matplotlib.pyplot as plt\n",
        "import numpy as np"
      ],
      "metadata": {
        "id": "57OprGT6qZVC"
      },
      "execution_count": 1,
      "outputs": []
    },
    {
      "cell_type": "code",
      "source": [
        "w,b,start,end,step = 0.7,0.3,0,1,0.02"
      ],
      "metadata": {
        "id": "nKiC7H2tHahd"
      },
      "execution_count": 2,
      "outputs": []
    },
    {
      "cell_type": "code",
      "source": [
        "X = torch.arange(start,end,step).unsqueeze(dim=1) #adds extra dim\n",
        "y = w*X + b"
      ],
      "metadata": {
        "id": "yaEwBFg0PHsr"
      },
      "execution_count": 3,
      "outputs": []
    },
    {
      "cell_type": "code",
      "source": [
        "X[:10],y[:10]"
      ],
      "metadata": {
        "colab": {
          "base_uri": "https://localhost:8080/"
        },
        "id": "5GWTL3A-PWUk",
        "outputId": "ecd2169f-7577-4618-dfa3-0c6c0184aa8b"
      },
      "execution_count": 4,
      "outputs": [
        {
          "output_type": "execute_result",
          "data": {
            "text/plain": [
              "(tensor([[0.0000],\n",
              "         [0.0200],\n",
              "         [0.0400],\n",
              "         [0.0600],\n",
              "         [0.0800],\n",
              "         [0.1000],\n",
              "         [0.1200],\n",
              "         [0.1400],\n",
              "         [0.1600],\n",
              "         [0.1800]]),\n",
              " tensor([[0.3000],\n",
              "         [0.3140],\n",
              "         [0.3280],\n",
              "         [0.3420],\n",
              "         [0.3560],\n",
              "         [0.3700],\n",
              "         [0.3840],\n",
              "         [0.3980],\n",
              "         [0.4120],\n",
              "         [0.4260]]))"
            ]
          },
          "metadata": {},
          "execution_count": 4
        }
      ]
    },
    {
      "cell_type": "code",
      "source": [
        "len(X),len(y)"
      ],
      "metadata": {
        "colab": {
          "base_uri": "https://localhost:8080/"
        },
        "id": "2OrgnecIPaeO",
        "outputId": "d8669499-71df-4af7-c22a-de099ecef4a7"
      },
      "execution_count": 5,
      "outputs": [
        {
          "output_type": "execute_result",
          "data": {
            "text/plain": [
              "(50, 50)"
            ]
          },
          "metadata": {},
          "execution_count": 5
        }
      ]
    },
    {
      "cell_type": "code",
      "source": [
        "len(X)*0.8"
      ],
      "metadata": {
        "colab": {
          "base_uri": "https://localhost:8080/"
        },
        "id": "9Nq-0wStPdeU",
        "outputId": "b928acaa-dfb4-4607-84f7-bcf2855f0263"
      },
      "execution_count": 6,
      "outputs": [
        {
          "output_type": "execute_result",
          "data": {
            "text/plain": [
              "40.0"
            ]
          },
          "metadata": {},
          "execution_count": 6
        }
      ]
    },
    {
      "cell_type": "code",
      "source": [
        "X_train, y_train = X[:40], y[:40]\n",
        "X_test , y_test = X[40:], y[40:]"
      ],
      "metadata": {
        "id": "Xs1JVW8YV2I8"
      },
      "execution_count": 7,
      "outputs": []
    },
    {
      "cell_type": "code",
      "source": [
        "def plot_predictions(train_data=X_train,\n",
        "                     train_labels=y_train,\n",
        "                     test_data=X_test,\n",
        "                     test_labels=y_test,\n",
        "                     predictions=None):\n",
        "\n",
        "  plt.figure(figsize=(8,6))\n",
        "  plt.scatter(train_data, train_labels, c='b', s=4, label='Training Data')\n",
        "  plt.scatter(test_data, test_labels, c='g', s=4, label='Testing Data')\n",
        "\n",
        "  if predictions is not None:\n",
        "    plt.scatter(test_data, predictions, c='r', s=4, label='Predictions')\n",
        "\n",
        "  plt.legend(prop={'size':10})"
      ],
      "metadata": {
        "id": "KtmI8eshWHq8"
      },
      "execution_count": 8,
      "outputs": []
    },
    {
      "cell_type": "code",
      "source": [
        "plot_predictions()"
      ],
      "metadata": {
        "colab": {
          "base_uri": "https://localhost:8080/",
          "height": 522
        },
        "id": "6Hp245eU-LJ-",
        "outputId": "70359eb0-4962-4cac-fa5e-543bf2b5afe7"
      },
      "execution_count": 9,
      "outputs": [
        {
          "output_type": "display_data",
          "data": {
            "text/plain": [
              "<Figure size 800x600 with 1 Axes>"
            ],
            "image/png": "[encoded data removed]"
          },
          "metadata": {}
        }
      ]
    },
    {
      "cell_type": "code",
      "source": [
        "class LinearRegModel(nn.Module):\n",
        "  def __init__(self):\n",
        "    super().__init__()\n",
        "    self.weights = nn.Parameter(torch.randn(1, requires_grad=True, dtype=torch.float))\n",
        "    self.bias = nn.Parameter(torch.randn(1, requires_grad=True, dtype=torch.float))\n",
        "\n",
        "  def forward(self, x:torch.Tensor) -> torch.Tensor:\n",
        "    return self.weights*x + self.bias"
      ],
      "metadata": {
        "id": "KDQjjY7k-TvT"
      },
      "execution_count": 10,
      "outputs": []
    },
    {
      "cell_type": "code",
      "source": [
        "torch.manual_seed(42)"
      ],
      "metadata": {
        "colab": {
          "base_uri": "https://localhost:8080/"
        },
        "id": "tfms-FzlHfx9",
        "outputId": "62406bdd-c991-41b5-dca4-f417ce07fa20"
      },
      "execution_count": 11,
      "outputs": [
        {
          "output_type": "execute_result",
          "data": {
            "text/plain": [
              "<torch._C.Generator at 0x7817523e3b70>"
            ]
          },
          "metadata": {},
          "execution_count": 11
        }
      ]
    },
    {
      "cell_type": "code",
      "source": [
        "model = LinearRegModel()"
      ],
      "metadata": {
        "id": "Lf3CfrzHpc_5"
      },
      "execution_count": 12,
      "outputs": []
    },
    {
      "cell_type": "code",
      "source": [
        "list(model.parameters())"
      ],
      "metadata": {
        "colab": {
          "base_uri": "https://localhost:8080/"
        },
        "id": "S7C4UtYKpiN0",
        "outputId": "5850edf2-4033-4c9a-81cb-457c68edb78b"
      },
      "execution_count": 13,
      "outputs": [
        {
          "output_type": "execute_result",
          "data": {
            "text/plain": [
              "[Parameter containing:\n",
              " tensor([0.3367], requires_grad=True),\n",
              " Parameter containing:\n",
              " tensor([0.1288], requires_grad=True)]"
            ]
          },
          "metadata": {},
          "execution_count": 13
        }
      ]
    },
    {
      "cell_type": "code",
      "source": [
        "model.state_dict()"
      ],
      "metadata": {
        "colab": {
          "base_uri": "https://localhost:8080/"
        },
        "id": "GOy3nIhep5Nm",
        "outputId": "39f0c599-a1d5-4750-9de5-68a290369dd4"
      },
      "execution_count": 14,
      "outputs": [
        {
          "output_type": "execute_result",
          "data": {
            "text/plain": [
              "OrderedDict([('weights', tensor([0.3367])), ('bias', tensor([0.1288]))])"
            ]
          },
          "metadata": {},
          "execution_count": 14
        }
      ]
    },
    {
      "cell_type": "code",
      "source": [
        "with torch.inference_mode():\n",
        "  y_pred = model(X_test)"
      ],
      "metadata": {
        "id": "RH65UKYKquHu"
      },
      "execution_count": 15,
      "outputs": []
    },
    {
      "cell_type": "code",
      "source": [
        "y_pred = model(X_test)"
      ],
      "metadata": {
        "id": "gE2ijx0C9my8"
      },
      "execution_count": 16,
      "outputs": []
    },
    {
      "cell_type": "code",
      "source": [
        "plot_predictions(predictions=y_pred.detach().numpy())"
      ],
      "metadata": {
        "colab": {
          "base_uri": "https://localhost:8080/",
          "height": 522
        },
        "id": "w6fdPane8JHT",
        "outputId": "0c594a47-5cf1-4677-a8e0-69d437bc1a4e"
      },
      "execution_count": 17,
      "outputs": [
        {
          "output_type": "display_data",
          "data": {
            "text/plain": [
              "<Figure size 800x600 with 1 Axes>"
            ],
            "image/png": "[encoded data removed]"
          },
          "metadata": {}
        }
      ]
    },
    {
      "cell_type": "code",
      "source": [
        "model.state_dict()"
      ],
      "metadata": {
        "colab": {
          "base_uri": "https://localhost:8080/"
        },
        "id": "c57nxMg3JiKv",
        "outputId": "0ebb5d09-59cf-4d84-bb1e-5d20e0856bc2"
      },
      "execution_count": 18,
      "outputs": [
        {
          "output_type": "execute_result",
          "data": {
            "text/plain": [
              "OrderedDict([('weights', tensor([0.3367])), ('bias', tensor([0.1288]))])"
            ]
          },
          "metadata": {},
          "execution_count": 18
        }
      ]
    },
    {
      "cell_type": "code",
      "source": [
        "loss_fn = nn.L1Loss() #MAE\n",
        "optim = torch.optim.SGD(params=model.parameters(),\n",
        "                        lr=0.01)"
      ],
      "metadata": {
        "id": "cjl2Gbdu9P1d"
      },
      "execution_count": 19,
      "outputs": []
    },
    {
      "cell_type": "code",
      "source": [
        "epochs = 1\n",
        "\n",
        "for epoch in range(epochs): #loop through data\n",
        "  model.train() #train mode\n",
        "  y_pred = model(X_train) #forward pass\n",
        "  loss = loss_fn(y_pred, y_train) #calculate loss\n",
        "  optim.zero_grad() #optimizer zero grad\n",
        "  loss.backward() #backprop\n",
        "  optim.step() #gradient descent\n",
        "  model.eval() #no grad tracking"
      ],
      "metadata": {
        "id": "4TqkpfP4JGm2"
      },
      "execution_count": 20,
      "outputs": []
    },
    {
      "cell_type": "code",
      "source": [
        "model.state_dict()"
      ],
      "metadata": {
        "colab": {
          "base_uri": "https://localhost:8080/"
        },
        "id": "Gc7KokD1VAjM",
        "outputId": "3b688d92-2442-4426-8995-71b3b941357f"
      },
      "execution_count": 21,
      "outputs": [
        {
          "output_type": "execute_result",
          "data": {
            "text/plain": [
              "OrderedDict([('weights', tensor([0.3406])), ('bias', tensor([0.1388]))])"
            ]
          },
          "metadata": {},
          "execution_count": 21
        }
      ]
    },
    {
      "cell_type": "code",
      "source": [
        "import numpy as np\n",
        "\n",
        "arr3 = np.random.randint(10, size=(10, 10))\n",
        "arr4 = np.random.randint(10, size=(10, 10))\n",
        "\n",
        "def calc_output(a, b):\n",
        "    return (a + b) if a > b else (a - b)\n",
        "\n",
        "# Create arr5 using np.where and calc_output\n",
        "arr5 = np.where(arr3 > arr4, arr3 + arr4, arr3 - arr4)\n",
        "\n",
        "print(\"arr3:\")\n",
        "print(arr3)\n",
        "\n",
        "print(\"\\narr4:\")\n",
        "print(arr4)\n",
        "\n",
        "print(\"\\narr5:\")\n",
        "print(arr5)"
      ],
      "metadata": {
        "id": "-iyfsUQAkNpr",
        "colab": {
          "base_uri": "https://localhost:8080/"
        },
        "outputId": "6078ab11-6f2d-4dc4-f475-7f7a8cbcac25"
      },
      "execution_count": 22,
      "outputs": [
        {
          "output_type": "stream",
          "name": "stdout",
          "text": [
            "arr3:\n",
            "[[5 6 7 1 2 5 5 0 0 7]\n",
            " [4 4 5 2 4 1 3 7 2 4]\n",
            " [5 9 3 7 3 5 8 9 1 7]\n",
            " [6 2 0 8 5 7 1 6 5 5]\n",
            " [3 2 1 6 2 3 0 1 5 5]\n",
            " [1 9 2 6 7 5 1 5 7 8]\n",
            " [1 4 9 6 3 2 8 5 2 3]\n",
            " [7 5 7 5 3 1 3 5 3 2]\n",
            " [8 0 7 3 3 4 7 6 6 4]\n",
            " [5 2 1 5 1 4 8 2 4 5]]\n",
            "\n",
            "arr4:\n",
            "[[8 4 4 4 3 5 2 1 8 5]\n",
            " [2 3 3 1 5 1 7 2 2 5]\n",
            " [7 0 3 6 9 3 4 5 3 7]\n",
            " [6 8 7 7 4 7 8 9 7 7]\n",
            " [0 7 9 6 9 9 8 7 4 0]\n",
            " [7 9 8 6 1 5 4 8 3 3]\n",
            " [2 0 9 6 4 9 1 0 5 3]\n",
            " [0 4 1 5 4 2 4 9 6 0]\n",
            " [4 4 8 0 9 3 5 0 7 0]\n",
            " [4 2 0 0 9 7 0 5 8 4]]\n",
            "\n",
            "arr5:\n",
            "[[-3 10 11 -3 -1  0  7 -1 -8 12]\n",
            " [ 6  7  8  3 -1  0 -4  9  0 -1]\n",
            " [-2  9  0 13 -6  8 12 14 -2  0]\n",
            " [ 0 -6 -7 15  9  0 -7 -3 -2 -2]\n",
            " [ 3 -5 -8  0 -7 -6 -8 -6  9  5]\n",
            " [-6  0 -6  0  8  0 -3 -3 10 11]\n",
            " [-1  4  0  0 -1 -7  9  5 -3  0]\n",
            " [ 7  9  8  0 -1 -1 -1 -4 -3  2]\n",
            " [12 -4 -1  3 -6  7 12  6 -1  4]\n",
            " [ 9  0  1  5 -8 -3  8 -3 -4  9]]\n"
          ]
        }
      ]
    },
    {
      "cell_type": "code",
      "source": [
        "import numpy as np\n",
        "import pandas as pd\n",
        "\n",
        "# Your existing data\n",
        "class_id = np.random.randint(5, size=20) + 1\n",
        "student_id = np.array(range(len(class_id)))\n",
        "exam_score = np.random.randint(100, size=len(class_id))\n",
        "\n",
        "dct = {'Class ID': class_id, 'Student ID': student_id, 'Exam Score': exam_score}\n",
        "results_tbl = pd.DataFrame(dct).set_index('Student ID')\n",
        "\n",
        "# Calculate the average score value for each class\n",
        "average_scores_by_class = results_tbl.groupby('Class ID')['Exam Score'].mean()\n",
        "\n",
        "print(average_scores_by_class)"
      ],
      "metadata": {
        "colab": {
          "base_uri": "https://localhost:8080/"
        },
        "id": "Mxx9qq5m_f9M",
        "outputId": "51b89750-a206-423a-a4ef-b48b5e4726b0"
      },
      "execution_count": 23,
      "outputs": [
        {
          "output_type": "stream",
          "name": "stdout",
          "text": [
            "Class ID\n",
            "1    34.000\n",
            "2    73.125\n",
            "3    70.000\n",
            "4    49.800\n",
            "5    45.200\n",
            "Name: Exam Score, dtype: float64\n"
          ]
        }
      ]
    },
    {
      "cell_type": "code",
      "source": [
        "zrr1 = np.zeros((10,10))\n",
        "arr6 = [1,2,3,4,5,6,7,8,9,10]\n",
        "\n",
        "zrr1 += arr6\n",
        "zrr1"
      ],
      "metadata": {
        "colab": {
          "base_uri": "https://localhost:8080/"
        },
        "id": "ahNssnyS__aC",
        "outputId": "798979b6-c443-45f8-dd16-60accdf47dab"
      },
      "execution_count": 24,
      "outputs": [
        {
          "output_type": "execute_result",
          "data": {
            "text/plain": [
              "array([[ 1.,  2.,  3.,  4.,  5.,  6.,  7.,  8.,  9., 10.],\n",
              "       [ 1.,  2.,  3.,  4.,  5.,  6.,  7.,  8.,  9., 10.],\n",
              "       [ 1.,  2.,  3.,  4.,  5.,  6.,  7.,  8.,  9., 10.],\n",
              "       [ 1.,  2.,  3.,  4.,  5.,  6.,  7.,  8.,  9., 10.],\n",
              "       [ 1.,  2.,  3.,  4.,  5.,  6.,  7.,  8.,  9., 10.],\n",
              "       [ 1.,  2.,  3.,  4.,  5.,  6.,  7.,  8.,  9., 10.],\n",
              "       [ 1.,  2.,  3.,  4.,  5.,  6.,  7.,  8.,  9., 10.],\n",
              "       [ 1.,  2.,  3.,  4.,  5.,  6.,  7.,  8.,  9., 10.],\n",
              "       [ 1.,  2.,  3.,  4.,  5.,  6.,  7.,  8.,  9., 10.],\n",
              "       [ 1.,  2.,  3.,  4.,  5.,  6.,  7.,  8.,  9., 10.]])"
            ]
          },
          "metadata": {},
          "execution_count": 24
        }
      ]
    },
    {
      "cell_type": "code",
      "source": [
        "import numpy as np\n",
        "\n",
        "arr2 = np.random.randint(10, size=20)\n",
        "print(\"arr2:\", arr2)\n",
        "\n",
        "indexes_of_sevens = np.where(arr2 == 7)[0]\n",
        "print(\"Indexes of elements equal to 7:\", indexes_of_sevens)"
      ],
      "metadata": {
        "colab": {
          "base_uri": "https://localhost:8080/"
        },
        "id": "jD0Rvsn3AWWE",
        "outputId": "0c12e069-a9e2-44af-e1d4-7f4da72148ea"
      },
      "execution_count": 25,
      "outputs": [
        {
          "output_type": "stream",
          "name": "stdout",
          "text": [
            "arr2: [2 1 6 8 2 8 6 5 4 6 9 9 4 8 0 4 9 9 4 6]\n",
            "Indexes of elements equal to 7: []\n"
          ]
        }
      ]
    },
    {
      "cell_type": "code",
      "source": [
        "import random"
      ],
      "metadata": {
        "id": "hxrYyb0BCAH0"
      },
      "execution_count": 26,
      "outputs": []
    },
    {
      "cell_type": "code",
      "source": [
        "arr1 = [random.randint(0,1) for i in range(10)]"
      ],
      "metadata": {
        "id": "pdc6Udw_B7qI"
      },
      "execution_count": 27,
      "outputs": []
    },
    {
      "cell_type": "code",
      "source": [
        "list(model.parameters())"
      ],
      "metadata": {
        "colab": {
          "base_uri": "https://localhost:8080/"
        },
        "id": "dL4zDOXANCRA",
        "outputId": "bd33e9fe-9561-496c-ee09-ab855d05cdff"
      },
      "execution_count": 28,
      "outputs": [
        {
          "output_type": "execute_result",
          "data": {
            "text/plain": [
              "[Parameter containing:\n",
              " tensor([0.3406], requires_grad=True),\n",
              " Parameter containing:\n",
              " tensor([0.1388], requires_grad=True)]"
            ]
          },
          "metadata": {},
          "execution_count": 28
        }
      ]
    },
    {
      "cell_type": "code",
      "source": [
        "model.state_dict()"
      ],
      "metadata": {
        "colab": {
          "base_uri": "https://localhost:8080/"
        },
        "id": "ZxQfnIAqNKXE",
        "outputId": "78e962d2-d494-4311-9643-0044f02d146f"
      },
      "execution_count": 29,
      "outputs": [
        {
          "output_type": "execute_result",
          "data": {
            "text/plain": [
              "OrderedDict([('weights', tensor([0.3406])), ('bias', tensor([0.1388]))])"
            ]
          },
          "metadata": {},
          "execution_count": 29
        }
      ]
    },
    {
      "cell_type": "code",
      "source": [
        "epochs = 100\n",
        "# losses = []\n",
        "\n",
        "# training\n",
        "for epoch in range(epochs):\n",
        "  model.train() # requires_grad = True\n",
        "  y_pred = model(X_train)\n",
        "  loss = loss_fn(y_pred,y_train)\n",
        "  print(loss)\n",
        "  # losses.append(loss)\n",
        "  optim.zero_grad()\n",
        "  loss.backward() # backpropagation\n",
        "  optim.step() # gradient descent\n",
        "  model.eval() # requires_grad = False\n",
        "\n",
        "# print(losses)"
      ],
      "metadata": {
        "colab": {
          "base_uri": "https://localhost:8080/"
        },
        "id": "OMb1ljkwkwgc",
        "outputId": "7c7dfaa1-6644-45ca-e363-27f41fe4cc8d"
      },
      "execution_count": 30,
      "outputs": [
        {
          "output_type": "stream",
          "name": "stdout",
          "text": [
            "tensor(0.3014, grad_fn=<MeanBackward0>)\n",
            "tensor(0.2898, grad_fn=<MeanBackward0>)\n",
            "tensor(0.2783, grad_fn=<MeanBackward0>)\n",
            "tensor(0.2668, grad_fn=<MeanBackward0>)\n",
            "tensor(0.2553, grad_fn=<MeanBackward0>)\n",
            "tensor(0.2438, grad_fn=<MeanBackward0>)\n",
            "tensor(0.2322, grad_fn=<MeanBackward0>)\n",
            "tensor(0.2207, grad_fn=<MeanBackward0>)\n",
            "tensor(0.2092, grad_fn=<MeanBackward0>)\n",
            "tensor(0.1977, grad_fn=<MeanBackward0>)\n",
            "tensor(0.1862, grad_fn=<MeanBackward0>)\n",
            "tensor(0.1746, grad_fn=<MeanBackward0>)\n",
            "tensor(0.1631, grad_fn=<MeanBackward0>)\n",
            "tensor(0.1516, grad_fn=<MeanBackward0>)\n",
            "tensor(0.1401, grad_fn=<MeanBackward0>)\n",
            "tensor(0.1285, grad_fn=<MeanBackward0>)\n",
            "tensor(0.1170, grad_fn=<MeanBackward0>)\n",
            "tensor(0.1061, grad_fn=<MeanBackward0>)\n",
            "tensor(0.0968, grad_fn=<MeanBackward0>)\n",
            "tensor(0.0891, grad_fn=<MeanBackward0>)\n",
            "tensor(0.0823, grad_fn=<MeanBackward0>)\n",
            "tensor(0.0764, grad_fn=<MeanBackward0>)\n",
            "tensor(0.0716, grad_fn=<MeanBackward0>)\n",
            "tensor(0.0675, grad_fn=<MeanBackward0>)\n",
            "tensor(0.0640, grad_fn=<MeanBackward0>)\n",
            "tensor(0.0610, grad_fn=<MeanBackward0>)\n",
            "tensor(0.0585, grad_fn=<MeanBackward0>)\n",
            "tensor(0.0564, grad_fn=<MeanBackward0>)\n",
            "tensor(0.0546, grad_fn=<MeanBackward0>)\n",
            "tensor(0.0531, grad_fn=<MeanBackward0>)\n",
            "tensor(0.0518, grad_fn=<MeanBackward0>)\n",
            "tensor(0.0507, grad_fn=<MeanBackward0>)\n",
            "tensor(0.0498, grad_fn=<MeanBackward0>)\n",
            "tensor(0.0490, grad_fn=<MeanBackward0>)\n",
            "tensor(0.0482, grad_fn=<MeanBackward0>)\n",
            "tensor(0.0475, grad_fn=<MeanBackward0>)\n",
            "tensor(0.0469, grad_fn=<MeanBackward0>)\n",
            "tensor(0.0464, grad_fn=<MeanBackward0>)\n",
            "tensor(0.0459, grad_fn=<MeanBackward0>)\n",
            "tensor(0.0454, grad_fn=<MeanBackward0>)\n",
            "tensor(0.0450, grad_fn=<MeanBackward0>)\n",
            "tensor(0.0446, grad_fn=<MeanBackward0>)\n",
            "tensor(0.0442, grad_fn=<MeanBackward0>)\n",
            "tensor(0.0438, grad_fn=<MeanBackward0>)\n",
            "tensor(0.0434, grad_fn=<MeanBackward0>)\n",
            "tensor(0.0431, grad_fn=<MeanBackward0>)\n",
            "tensor(0.0427, grad_fn=<MeanBackward0>)\n",
            "tensor(0.0424, grad_fn=<MeanBackward0>)\n",
            "tensor(0.0420, grad_fn=<MeanBackward0>)\n",
            "tensor(0.0417, grad_fn=<MeanBackward0>)\n",
            "tensor(0.0413, grad_fn=<MeanBackward0>)\n",
            "tensor(0.0410, grad_fn=<MeanBackward0>)\n",
            "tensor(0.0406, grad_fn=<MeanBackward0>)\n",
            "tensor(0.0403, grad_fn=<MeanBackward0>)\n",
            "tensor(0.0399, grad_fn=<MeanBackward0>)\n",
            "tensor(0.0396, grad_fn=<MeanBackward0>)\n",
            "tensor(0.0392, grad_fn=<MeanBackward0>)\n",
            "tensor(0.0389, grad_fn=<MeanBackward0>)\n",
            "tensor(0.0385, grad_fn=<MeanBackward0>)\n",
            "tensor(0.0382, grad_fn=<MeanBackward0>)\n",
            "tensor(0.0379, grad_fn=<MeanBackward0>)\n",
            "tensor(0.0375, grad_fn=<MeanBackward0>)\n",
            "tensor(0.0372, grad_fn=<MeanBackward0>)\n",
            "tensor(0.0368, grad_fn=<MeanBackward0>)\n",
            "tensor(0.0365, grad_fn=<MeanBackward0>)\n",
            "tensor(0.0361, grad_fn=<MeanBackward0>)\n",
            "tensor(0.0358, grad_fn=<MeanBackward0>)\n",
            "tensor(0.0354, grad_fn=<MeanBackward0>)\n",
            "tensor(0.0351, grad_fn=<MeanBackward0>)\n",
            "tensor(0.0348, grad_fn=<MeanBackward0>)\n",
            "tensor(0.0344, grad_fn=<MeanBackward0>)\n",
            "tensor(0.0341, grad_fn=<MeanBackward0>)\n",
            "tensor(0.0337, grad_fn=<MeanBackward0>)\n",
            "tensor(0.0334, grad_fn=<MeanBackward0>)\n",
            "tensor(0.0330, grad_fn=<MeanBackward0>)\n",
            "tensor(0.0327, grad_fn=<MeanBackward0>)\n",
            "tensor(0.0324, grad_fn=<MeanBackward0>)\n",
            "tensor(0.0320, grad_fn=<MeanBackward0>)\n",
            "tensor(0.0317, grad_fn=<MeanBackward0>)\n",
            "tensor(0.0313, grad_fn=<MeanBackward0>)\n",
            "tensor(0.0310, grad_fn=<MeanBackward0>)\n",
            "tensor(0.0306, grad_fn=<MeanBackward0>)\n",
            "tensor(0.0303, grad_fn=<MeanBackward0>)\n",
            "tensor(0.0300, grad_fn=<MeanBackward0>)\n",
            "tensor(0.0296, grad_fn=<MeanBackward0>)\n",
            "tensor(0.0293, grad_fn=<MeanBackward0>)\n",
            "tensor(0.0289, grad_fn=<MeanBackward0>)\n",
            "tensor(0.0286, grad_fn=<MeanBackward0>)\n",
            "tensor(0.0282, grad_fn=<MeanBackward0>)\n",
            "tensor(0.0279, grad_fn=<MeanBackward0>)\n",
            "tensor(0.0275, grad_fn=<MeanBackward0>)\n",
            "tensor(0.0272, grad_fn=<MeanBackward0>)\n",
            "tensor(0.0269, grad_fn=<MeanBackward0>)\n",
            "tensor(0.0265, grad_fn=<MeanBackward0>)\n",
            "tensor(0.0262, grad_fn=<MeanBackward0>)\n",
            "tensor(0.0258, grad_fn=<MeanBackward0>)\n",
            "tensor(0.0255, grad_fn=<MeanBackward0>)\n",
            "tensor(0.0251, grad_fn=<MeanBackward0>)\n",
            "tensor(0.0248, grad_fn=<MeanBackward0>)\n",
            "tensor(0.0245, grad_fn=<MeanBackward0>)\n"
          ]
        }
      ]
    },
    {
      "cell_type": "code",
      "source": [
        "import matplotlib.pyplot as plt"
      ],
      "metadata": {
        "id": "N3uWUkP6lNnI"
      },
      "execution_count": 31,
      "outputs": []
    },
    {
      "cell_type": "code",
      "source": [
        "model.state_dict()\n"
      ],
      "metadata": {
        "colab": {
          "base_uri": "https://localhost:8080/"
        },
        "id": "IBO9wlFeEnDK",
        "outputId": "57cbb633-3ec7-4120-a8cc-5d5618503aae"
      },
      "execution_count": 32,
      "outputs": [
        {
          "output_type": "execute_result",
          "data": {
            "text/plain": [
              "OrderedDict([('weights', tensor([0.5800])), ('bias', tensor([0.3503]))])"
            ]
          },
          "metadata": {},
          "execution_count": 32
        }
      ]
    },
    {
      "cell_type": "code",
      "source": [
        "loss"
      ],
      "metadata": {
        "colab": {
          "base_uri": "https://localhost:8080/"
        },
        "id": "ILOPEECxkYvl",
        "outputId": "e1a10bb2-4aa5-484e-adf0-8eaf7082a338"
      },
      "execution_count": 33,
      "outputs": [
        {
          "output_type": "execute_result",
          "data": {
            "text/plain": [
              "tensor(0.0245, grad_fn=<MeanBackward0>)"
            ]
          },
          "metadata": {},
          "execution_count": 33
        }
      ]
    },
    {
      "cell_type": "code",
      "source": [
        "model.state_dict()"
      ],
      "metadata": {
        "colab": {
          "base_uri": "https://localhost:8080/"
        },
        "id": "vlgm26RinmZx",
        "outputId": "4786dfea-4f8b-4ca6-bc64-62ad149a35c7"
      },
      "execution_count": 34,
      "outputs": [
        {
          "output_type": "execute_result",
          "data": {
            "text/plain": [
              "OrderedDict([('weights', tensor([0.5800])), ('bias', tensor([0.3503]))])"
            ]
          },
          "metadata": {},
          "execution_count": 34
        }
      ]
    },
    {
      "cell_type": "code",
      "source": [
        "with torch.inference_mode():\n",
        "  y_preds_new = model(X_test)\n",
        "  test_loss = loss_fn(y_preds_new,y_test)\n",
        ""
      ],
      "metadata": {
        "id": "zHrMuajnkbrT"
      },
      "execution_count": 35,
      "outputs": []
    },
    {
      "cell_type": "code",
      "source": [
        "plot_predictions(predictions= y_preds_new)"
      ],
      "metadata": {
        "colab": {
          "base_uri": "https://localhost:8080/",
          "height": 522
        },
        "id": "XYMHgCezFNRE",
        "outputId": "785fe3cd-bb7f-4feb-c9f9-2ecf06955e8f"
      },
      "execution_count": 36,
      "outputs": [
        {
          "output_type": "display_data",
          "data": {
            "text/plain": [
              "<Figure size 800x600 with 1 Axes>"
            ],
            "image/png": "[encoded data removed]"
          },
          "metadata": {}
        }
      ]
    },
    {
      "cell_type": "code",
      "source": [
        "torch.manual_seed(1234)\n",
        "\n",
        "epochs = 200\n",
        "epoch_count,loss_values, test_loss_values = [],[],[]\n",
        "\n",
        "# losses = []\n",
        "\n",
        "for epoch in range(epochs):\n",
        "  # training\n",
        "  model.train() # requires_grad = True\n",
        "  y_pred = model(X_train)\n",
        "  loss = loss_fn(y_pred,y_train)\n",
        "  # print(loss)\n",
        "  # losses.append(loss)\n",
        "  optim.zero_grad()\n",
        "  loss.backward() # backpropagation\n",
        "  optim.step() # gradient descent\n",
        "\n",
        "  # testing\n",
        "  model.eval() # requires_grad = False\n",
        "  with torch.inference_mode():\n",
        "    y_preds_new = model(X_test)\n",
        "    test_loss = loss_fn(y_preds_new,y_test)\n",
        "\n",
        "  if epoch%10 == 0:\n",
        "    epoch_count.append(epoch)\n",
        "    loss_values.append(loss)\n",
        "    test_loss_values.append(test_loss)\n",
        "    print('epoch',epoch,'loss',loss,'test_loss',test_loss)"
      ],
      "metadata": {
        "colab": {
          "base_uri": "https://localhost:8080/"
        },
        "id": "HgvEmCXOG-f3",
        "outputId": "445092fd-6f96-4add-c658-01ae2086a0b8"
      },
      "execution_count": 37,
      "outputs": [
        {
          "output_type": "stream",
          "name": "stdout",
          "text": [
            "epoch 0 loss tensor(0.0241, grad_fn=<MeanBackward0>) test_loss tensor(0.0554)\n",
            "epoch 10 loss tensor(0.0207, grad_fn=<MeanBackward0>) test_loss tensor(0.0478)\n",
            "epoch 20 loss tensor(0.0172, grad_fn=<MeanBackward0>) test_loss tensor(0.0395)\n",
            "epoch 30 loss tensor(0.0138, grad_fn=<MeanBackward0>) test_loss tensor(0.0312)\n",
            "epoch 40 loss tensor(0.0104, grad_fn=<MeanBackward0>) test_loss tensor(0.0236)\n",
            "epoch 50 loss tensor(0.0069, grad_fn=<MeanBackward0>) test_loss tensor(0.0154)\n",
            "epoch 60 loss tensor(0.0035, grad_fn=<MeanBackward0>) test_loss tensor(0.0071)\n",
            "epoch 70 loss tensor(0.0026, grad_fn=<MeanBackward0>) test_loss tensor(0.0084)\n",
            "epoch 80 loss tensor(0.0026, grad_fn=<MeanBackward0>) test_loss tensor(0.0084)\n",
            "epoch 90 loss tensor(0.0026, grad_fn=<MeanBackward0>) test_loss tensor(0.0084)\n",
            "epoch 100 loss tensor(0.0026, grad_fn=<MeanBackward0>) test_loss tensor(0.0084)\n",
            "epoch 110 loss tensor(0.0026, grad_fn=<MeanBackward0>) test_loss tensor(0.0084)\n",
            "epoch 120 loss tensor(0.0026, grad_fn=<MeanBackward0>) test_loss tensor(0.0084)\n",
            "epoch 130 loss tensor(0.0026, grad_fn=<MeanBackward0>) test_loss tensor(0.0084)\n",
            "epoch 140 loss tensor(0.0026, grad_fn=<MeanBackward0>) test_loss tensor(0.0084)\n",
            "epoch 150 loss tensor(0.0026, grad_fn=<MeanBackward0>) test_loss tensor(0.0084)\n",
            "epoch 160 loss tensor(0.0026, grad_fn=<MeanBackward0>) test_loss tensor(0.0084)\n",
            "epoch 170 loss tensor(0.0026, grad_fn=<MeanBackward0>) test_loss tensor(0.0084)\n",
            "epoch 180 loss tensor(0.0026, grad_fn=<MeanBackward0>) test_loss tensor(0.0084)\n",
            "epoch 190 loss tensor(0.0026, grad_fn=<MeanBackward0>) test_loss tensor(0.0084)\n"
          ]
        }
      ]
    },
    {
      "cell_type": "code",
      "source": [
        "epoch_count,loss_values, test_loss_values"
      ],
      "metadata": {
        "colab": {
          "base_uri": "https://localhost:8080/"
        },
        "id": "TxDCLpz4Ugwr",
        "outputId": "85ffb09c-0dda-4653-8f30-27d1115c6c22"
      },
      "execution_count": 38,
      "outputs": [
        {
          "output_type": "execute_result",
          "data": {
            "text/plain": [
              "([0,\n",
              "  10,\n",
              "  20,\n",
              "  30,\n",
              "  40,\n",
              "  50,\n",
              "  60,\n",
              "  70,\n",
              "  80,\n",
              "  90,\n",
              "  100,\n",
              "  110,\n",
              "  120,\n",
              "  130,\n",
              "  140,\n",
              "  150,\n",
              "  160,\n",
              "  170,\n",
              "  180,\n",
              "  190],\n",
              " [tensor(0.0241, grad_fn=<MeanBackward0>),\n",
              "  tensor(0.0207, grad_fn=<MeanBackward0>),\n",
              "  tensor(0.0172, grad_fn=<MeanBackward0>),\n",
              "  tensor(0.0138, grad_fn=<MeanBackward0>),\n",
              "  tensor(0.0104, grad_fn=<MeanBackward0>),\n",
              "  tensor(0.0069, grad_fn=<MeanBackward0>),\n",
              "  tensor(0.0035, grad_fn=<MeanBackward0>),\n",
              "  tensor(0.0026, grad_fn=<MeanBackward0>),\n",
              "  tensor(0.0026, grad_fn=<MeanBackward0>),\n",
              "  tensor(0.0026, grad_fn=<MeanBackward0>),\n",
              "  tensor(0.0026, grad_fn=<MeanBackward0>),\n",
              "  tensor(0.0026, grad_fn=<MeanBackward0>),\n",
              "  tensor(0.0026, grad_fn=<MeanBackward0>),\n",
              "  tensor(0.0026, grad_fn=<MeanBackward0>),\n",
              "  tensor(0.0026, grad_fn=<MeanBackward0>),\n",
              "  tensor(0.0026, grad_fn=<MeanBackward0>),\n",
              "  tensor(0.0026, grad_fn=<MeanBackward0>),\n",
              "  tensor(0.0026, grad_fn=<MeanBackward0>),\n",
              "  tensor(0.0026, grad_fn=<MeanBackward0>),\n",
              "  tensor(0.0026, grad_fn=<MeanBackward0>)],\n",
              " [tensor(0.0554),\n",
              "  tensor(0.0478),\n",
              "  tensor(0.0395),\n",
              "  tensor(0.0312),\n",
              "  tensor(0.0236),\n",
              "  tensor(0.0154),\n",
              "  tensor(0.0071),\n",
              "  tensor(0.0084),\n",
              "  tensor(0.0084),\n",
              "  tensor(0.0084),\n",
              "  tensor(0.0084),\n",
              "  tensor(0.0084),\n",
              "  tensor(0.0084),\n",
              "  tensor(0.0084),\n",
              "  tensor(0.0084),\n",
              "  tensor(0.0084),\n",
              "  tensor(0.0084),\n",
              "  tensor(0.0084),\n",
              "  tensor(0.0084),\n",
              "  tensor(0.0084)])"
            ]
          },
          "metadata": {},
          "execution_count": 38
        }
      ]
    },
    {
      "cell_type": "code",
      "source": [
        "plt.plot(epoch_count,torch.tensor(loss_values), label='Train Loss')\n",
        "plt.plot(epoch_count,test_loss_values, label='Test Loss')\n",
        "plt.xlabel('Epochs')\n",
        "plt.ylabel('Loss')\n",
        "plt.legend();"
      ],
      "metadata": {
        "colab": {
          "base_uri": "https://localhost:8080/",
          "height": 449
        },
        "id": "iRteAeAOUvwU",
        "outputId": "da6a5900-06eb-463c-9615-e1965442fe7a"
      },
      "execution_count": 57,
      "outputs": [
        {
          "output_type": "display_data",
          "data": {
            "text/plain": [
              "<Figure size 640x480 with 1 Axes>"
            ],
            "image/png": "[encoded data removed]"
          },
          "metadata": {}
        }
      ]
    },
    {
      "cell_type": "code",
      "source": [],
      "metadata": {
        "id": "cKI2doGcXivb"
      },
      "execution_count": null,
      "outputs": []
    }
  ]
}